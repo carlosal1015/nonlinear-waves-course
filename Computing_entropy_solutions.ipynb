{
 "cells": [
  {
   "cell_type": "code",
   "execution_count": null,
   "metadata": {
    "collapsed": false
   },
   "outputs": [],
   "source": [
    "%matplotlib inline\n",
    "import numpy as np\n",
    "import matplotlib.pyplot as plt\n",
    "import time, sys\n",
    "import matplotlib\n",
    "from matplotlib import animation\n",
    "from JSAnimation import IPython_display\n",
    "matplotlib.rcParams.update({'font.size': 12})"
   ]
  },
  {
   "cell_type": "markdown",
   "metadata": {},
   "source": [
    "Numerical methods can converge to entropy-violating solutions.  Here we consider Example 12.3 from [LeVeque 1992].  We take Burgers' equation\n",
    "\n",
    "$$q_t + \\left(\\frac{1}{2} q^2\\right)_x = 0$$\n",
    "\n",
    "with Riemann initial data\n",
    "\n",
    "$$q(x,0) = \\begin{cases} -1 & x < 0 \\\\\\\\ 1 & x > 0 \\end{cases}.$$"
   ]
  },
  {
   "cell_type": "markdown",
   "metadata": {},
   "source": [
    "# Characteristics\n",
    "Here is what the characteristics look like:"
   ]
  },
  {
   "cell_type": "code",
   "execution_count": null,
   "metadata": {
    "collapsed": false
   },
   "outputs": [],
   "source": [
    "import matplotlib.gridspec as gridspec\n",
    "\n",
    "def plot_characteristics(q0,N=50):\n",
    "    gs1 = gridspec.GridSpec(2, 1)\n",
    "    gs1.update(wspace=0.,hspace=0.1)\n",
    "    ax1 = plt.subplot(gs1[0, 0])\n",
    "    ax2 = plt.subplot(gs1[1, 0])\n",
    "    xc = np.linspace(-1.,1.,N)\n",
    "    T = 1.\n",
    "    ax1.plot(xc,q0(xc),'ob',lw=2);\n",
    "    ax1.set_ylim(-1.1,1.1);\n",
    "    ax1.set_ylabel('q',fontsize=20)\n",
    "    ax1.xaxis.set_major_locator(plt.NullLocator()) # Remove tick labels\n",
    "    for x0 in xc:\n",
    "        ax2.plot([x0,x0+T*q0(x0)],[0,T],'-k')\n",
    "        plt.hold(True)\n",
    "    plt.axis([-1,1,0,T]);\n",
    "    ax2.set_xlabel('x')\n",
    "    ax2.set_ylabel('t')\n",
    "    \n",
    "q0 = lambda x : -1.*(x<0.) + 1.*(x>0.)\n",
    "plot_characteristics(q0)"
   ]
  },
  {
   "cell_type": "markdown",
   "metadata": {},
   "source": [
    "Notice that the characteristics around $x=0$ are diverging.  If we smooth the solution slightly, the characteristics look like this:"
   ]
  },
  {
   "cell_type": "code",
   "execution_count": null,
   "metadata": {
    "collapsed": false
   },
   "outputs": [],
   "source": [
    "q0 = lambda x : np.tanh(20*x)\n",
    "plot_characteristics(q0,N=100)"
   ]
  },
  {
   "cell_type": "markdown",
   "metadata": {},
   "source": [
    "Clearly there should not be a shock at $x=0$.  However, observe that the solution $q(x,t) = q_0(x)$ is a weak solution since it satisfies the differential conservation law trivially away from $x=0$ and is conservative (notice that the Rankine-Hugoniot conditions dictate that a shock with left state -1 and right state +1 should be stationary)."
   ]
  },
  {
   "cell_type": "markdown",
   "metadata": {},
   "source": [
    "# Numerical solution\n",
    "We'll discretize using flux-differencing\n",
    "\n",
    "$$Q^{n+1}_j = Q^n_j - \\frac{\\Delta t}{\\Delta x} \\left(F_{i+1/2} - F_{i-1/2}\\right)$$\n",
    "\n",
    "where the numerical flux is taken as the upwind flux:\n",
    "\n",
    "$$F_{i-1/2} = \\begin{cases} f(Q_{i-1}) & \\frac{Q_{i}+Q_{i-1}}{2}\\ge0 \\\\\\\\\n",
    "f(Q_{i}) & \\frac{Q_{i}+Q_{i-1}}{2}<0\\end{cases}$$"
   ]
  },
  {
   "cell_type": "markdown",
   "metadata": {},
   "source": [
    "We'll also consider a variation of this method in which we take the flux above unless $Q_{i-1} < 0 < Q_i$.  Then we take $F_{i-1/2} = 0$.  This modification is known as an *entropy fix*, for reasons that will soon become apparent."
   ]
  },
  {
   "cell_type": "code",
   "execution_count": null,
   "metadata": {
    "collapsed": false
   },
   "outputs": [],
   "source": [
    "def take_step(q,dt,dx,entropy_fix=False):\n",
    "    f = np.zeros(q.shape) # fluxes\n",
    "    avg = (q[:-2] + q[1:-1])/2.\n",
    "    f[1:-1] = 0.5*q[:-2]**2 * (avg>0.) + 0.5*q[1:-1]**2 * (avg<=0.)  # F_{i-1/2}\n",
    "    \n",
    "    if entropy_fix:\n",
    "        for i in range(len(f)):\n",
    "            if q[i]>0. and q[i-1]<0.:\n",
    "                f[i] = 0.\n",
    "    \n",
    "    q[1:-1] = q[1:-1] - dt/dx * ( f[2:] - f[1:-1] )\n",
    "    return q"
   ]
  },
  {
   "cell_type": "code",
   "execution_count": null,
   "metadata": {
    "collapsed": false
   },
   "outputs": [],
   "source": [
    "cflnum=0.5;\n",
    "N=100;  # Number of grid points\n",
    "plot_interval = N/10  # Draw a plot every n time steps\n",
    "\n",
    "dx=1./N;\n",
    "nghost = 2; N2=N+2*nghost;  # Ghost cells used for implementing boundary conditions\n",
    "x=np.linspace(-(nghost-0.5)*dx,1.+(nghost-0.5)*dx,N2)\n",
    "t=0.; T=0.5; # Initial and final time\n",
    "\n",
    "q0 = -1.*(x<0.5) + 1.*(x>0.5)\n",
    "#q = q0.copy();\n",
    "\n",
    "dt=cflnum*dx/np.max(q0);\n",
    "\n",
    "# Set up plotting\n",
    "fig = plt.figure()\n",
    "axes = fig.add_subplot(111)\n",
    "line1, = axes.plot(x,q0,lw=2)\n",
    "line2, = axes.plot(x,q0,'r--',lw=2)\n",
    "axes.set_xlim(0.,1.)\n",
    "axes.legend(['Without entropy fix','With entropy fix'],loc='upper left')\n",
    "\n",
    "frames1 = [q0.copy()]\n",
    "frames2 = [q0.copy()]\n",
    "q_n = q0.copy()\n",
    "q_e = q0.copy()\n",
    "\n",
    "i = 0\n",
    "while t<T:\n",
    "    if dt>T-t: dt=T-t\n",
    "        \n",
    "    q_n = take_step(q_n ,dt, dx, entropy_fix=False)\n",
    "    q_e = take_step(q_e ,dt, dx, entropy_fix=True)\n",
    "\n",
    "    for q in [q_n, q_e]:  # Fixed boundary conditions\n",
    "        q[0:nghost]  = -1. \n",
    "        q[-nghost:]  = 1.\n",
    "        \n",
    "    t = t + dt\n",
    "    i = i + 1\n",
    "    if (i % plot_interval) == 0:\n",
    "        frames1.append(q_n.copy())\n",
    "        frames2.append(q_e.copy())\n",
    "        \n",
    "def plot_frame(i):\n",
    "    line1.set_data(x,frames1[i])\n",
    "    line2.set_data(x,frames2[i])\n",
    "\n",
    "matplotlib.animation.FuncAnimation(fig, plot_frame, frames=len(frames1), interval=200)"
   ]
  },
  {
   "cell_type": "markdown",
   "metadata": {},
   "source": [
    "##Exercises\n",
    "\n",
    "1. *Change $N$ in the code above to an odd number and run again.  What happens?  Why?  Now consider the sequence of approximate solutions obtained (without the entropy fix) as $N \\to \\infty$.  Is the sequence convergent?*\n",
    "\n",
    "2. *The solution above is not the only entropy-violating weak solution possible.  Can you think of any others?  After you come up with at least one, try changing the CFL number in the code above to a value greater than 1.  Is the result a valid weak solution?  Does it satisfy the entropy condition?*"
   ]
  },
  {
   "cell_type": "code",
   "execution_count": null,
   "metadata": {
    "collapsed": true
   },
   "outputs": [],
   "source": []
  }
 ],
 "metadata": {
  "kernelspec": {
   "display_name": "Python 2",
   "language": "python",
   "name": "python2"
  },
  "language_info": {
   "codemirror_mode": {
    "name": "ipython",
    "version": 2
   },
   "file_extension": ".py",
   "mimetype": "text/x-python",
   "name": "python",
   "nbconvert_exporter": "python",
   "pygments_lexer": "ipython2",
   "version": "2.7.9"
  }
 },
 "nbformat": 4,
 "nbformat_minor": 0
}
