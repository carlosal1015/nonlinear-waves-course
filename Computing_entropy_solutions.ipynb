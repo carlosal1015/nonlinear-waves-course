{
 "cells": [
  {
   "cell_type": "markdown",
   "metadata": {},
   "source": [
    "Numerical methods can converge to entropy-violating solutions.  Here we consider Example 12.3 from [LeVeque 1992].  We take Burgers' equation\n",
    "\n",
    "$$q_t + \\left(\\frac{1}{2} q^2\\right)_x = 0$$\n",
    "\n",
    "with Riemann initial data\n",
    "\n",
    "$$q(x,0) = \\begin{cases} -1 & x < 0 \\\\\\\\ 1 & x > 0 \\end{cases}.$$\n",
    "\n",
    "We'll discretize using flux-differencing\n",
    "\n",
    "$$Q^{n+1}_j = Q^n_j - \\frac{\\Delta t}{\\Delta x} \\left(F_{i+1/2} - F_{i-1/2}\\right)$$\n",
    "\n",
    "where the numerical flux is taken as the upwind flux:\n",
    "\n",
    "$$F_{i-1/2} = \\begin{cases} f(Q_{i-1}) & \\frac{Q_{i}+Q_{i-1}}{2}\\ge0 \\\\\\\\\n",
    "f(Q_{i}) & \\frac{Q_{i}+Q_{i-1}}{2}<0\\end{cases}$$"
   ]
  },
  {
   "cell_type": "code",
   "execution_count": null,
   "metadata": {
    "collapsed": false
   },
   "outputs": [],
   "source": [
    "import numpy as np\n",
    "import matplotlib.pyplot as plt\n",
    "import time, sys\n",
    "import matplotlib\n",
    "from matplotlib import animation\n",
    "from JSAnimation import IPython_display"
   ]
  },
  {
   "cell_type": "code",
   "execution_count": null,
   "metadata": {
    "collapsed": false
   },
   "outputs": [],
   "source": [
    "def take_step(q,dt,dx,entropy_fix=False):\n",
    "    f = np.zeros(q.shape) # fluxes\n",
    "    avg = (q[:-2] + q[1:-1])/2.\n",
    "    f[1:-1] = 0.5*q[:-2]**2 * (avg>0.) + 0.5*q[1:-1]**2 * (avg<=0.)  # F_{i-1/2}\n",
    "    \n",
    "    if entropy_fix:\n",
    "        for i in range(len(f)):\n",
    "            if q[i]>0. and q[i-1]<0.:\n",
    "                f[i] = 0.\n",
    "    \n",
    "    q[1:-1] = q[1:-1] - dt/dx * ( f[2:] - f[1:-1] )\n",
    "    return q"
   ]
  },
  {
   "cell_type": "code",
   "execution_count": null,
   "metadata": {
    "collapsed": false
   },
   "outputs": [],
   "source": [
    "cflnum=0.45;\n",
    "N=1000;  # Number of grid points\n",
    "plot_interval = N/10  # Draw a plot every n time steps\n",
    "\n",
    "dx=1./N;\n",
    "nghost = 2; N2=N+2*nghost;  # Ghost cells used for implementing boundary conditions\n",
    "x=np.linspace(-(nghost-0.5)*dx,1.+(nghost-0.5)*dx,N2)\n",
    "t=0.; T=0.5; # Initial and final time\n",
    "\n",
    "q0 = -1.*(x<0.5) + 1.*(x>0.5)\n",
    "#q = q0.copy();\n",
    "\n",
    "dt=cflnum*dx/np.max(q0);\n",
    "\n",
    "# Set up plotting\n",
    "fig = plt.figure()\n",
    "axes = fig.add_subplot(111)\n",
    "line1, = axes.plot(x,q0,lw=2)\n",
    "line2, = axes.plot(x,q0,'r--',lw=2)\n",
    "axes.set_xlim(0.,1.)\n",
    "axes.legend(['Without entropy fix','With entropy fix'],loc='upper left')\n",
    "\n",
    "frames1 = [q0.copy()]\n",
    "frames2 = [q0.copy()]\n",
    "q_n = q0.copy()\n",
    "q_e = q0.copy()\n",
    "\n",
    "i = 0\n",
    "while t<T:\n",
    "    if dt>T-t: dt=T-t\n",
    "        \n",
    "    q_n = take_step(q_n ,dt, dx, entropy_fix=False)\n",
    "    q_e = take_step(q_e ,dt, dx, entropy_fix=True)\n",
    "\n",
    "    for q in [q_n, q_e]:  # Fixed boundary conditions\n",
    "        q[0:nghost]  = -1. \n",
    "        q[-nghost:]  = 1.\n",
    "        \n",
    "    t = t + dt\n",
    "    i = i + 1\n",
    "    if (i % plot_interval) == 0:\n",
    "        frames1.append(q_n.copy())\n",
    "        frames2.append(q_e.copy())\n",
    "        \n",
    "def plot_frame(i):\n",
    "    line1.set_data(x,frames1[i])\n",
    "    line2.set_data(x,frames2[i])\n",
    "\n",
    "matplotlib.animation.FuncAnimation(fig, plot_frame, frames=len(frames1), interval=200)"
   ]
  },
  {
   "cell_type": "markdown",
   "metadata": {},
   "source": [
    "What happens if we use an odd number of grid points?"
   ]
  },
  {
   "cell_type": "code",
   "execution_count": null,
   "metadata": {
    "collapsed": true
   },
   "outputs": [],
   "source": [
    "axes.legend?"
   ]
  },
  {
   "cell_type": "code",
   "execution_count": null,
   "metadata": {
    "collapsed": true
   },
   "outputs": [],
   "source": []
  }
 ],
 "metadata": {
  "kernelspec": {
   "display_name": "Python 2",
   "language": "python",
   "name": "python2"
  },
  "language_info": {
   "codemirror_mode": {
    "name": "ipython",
    "version": 2
   },
   "file_extension": ".py",
   "mimetype": "text/x-python",
   "name": "python",
   "nbconvert_exporter": "python",
   "pygments_lexer": "ipython2",
   "version": "2.7.9"
  }
 },
 "nbformat": 4,
 "nbformat_minor": 0
}
