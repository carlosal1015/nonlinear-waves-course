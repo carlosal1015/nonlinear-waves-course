{
 "metadata": {
  "name": "",
  "signature": "sha256:f644cd0c2b9c14a4bed5e81c2b24f442b02141eeec88f8441b63033916d6f43c"
 },
 "nbformat": 3,
 "nbformat_minor": 0,
 "worksheets": [
  {
   "cells": [
    {
     "cell_type": "code",
     "collapsed": false,
     "input": [
      "%matplotlib inline\n",
      "import matplotlib.pyplot as plt\n",
      "import numpy as np\n",
      "from JSAnimation import IPython_display\n",
      "from matplotlib import animation"
     ],
     "language": "python",
     "metadata": {},
     "outputs": []
    },
    {
     "cell_type": "heading",
     "level": 1,
     "metadata": {},
     "source": [
      "A chain of springs"
     ]
    },
    {
     "cell_type": "markdown",
     "metadata": {},
     "source": [
      "Let us consider a chain of masses connected by springs:\n",
      "\n",
      "![](img/springs.png)"
     ]
    },
    {
     "cell_type": "markdown",
     "metadata": {},
     "source": [
      "The motion of mass $n$ is given by Newton's second law:\n",
      "\n",
      "$$m_j x''_j(t) = F_{j+1/2} - F_{j-1/2}.$$\n",
      "\n",
      "Here $m$ is the mass, $x$ is the position, and the terms $F_{j\\pm 1/2}$ are the forces exerted by the springs."
     ]
    },
    {
     "cell_type": "heading",
     "level": 2,
     "metadata": {},
     "source": [
      "Linear springs"
     ]
    },
    {
     "cell_type": "markdown",
     "metadata": {},
     "source": [
      "For small displacements, springs behave linearly: the force is proportional to the amount by which the spring is stretched:\n",
      "\n",
      "\\begin{align}\n",
      "F_{j+1/2} & = k (x_{j+1} - x_j - d) \\\\\n",
      "F_{j-1/2} & = k (x_j - x_{j-1} - d).\n",
      "\\end{align}\n",
      "\n",
      "Here $d$ is the natural length of the spring and $k$ is the spring constant; we have assumed them to be the same for all the springs."
     ]
    },
    {
     "cell_type": "markdown",
     "metadata": {},
     "source": [
      "Then the motion of the chain is described by the system of equations:\n",
      "\n",
      "\\begin{align}\n",
      "x''_j(t) = \\frac{k}{m} (x_{j+1} - 2 x_j + x_{j-1}).\n",
      "\\end{align}\n",
      "\n",
      "You have probably seen this system of equations before -- it can be viewed, for instance, as a semi-discretization of the wave equation.  We will assume that the ends of the chain are held at fixed locations."
     ]
    },
    {
     "cell_type": "markdown",
     "metadata": {},
     "source": [
      "Noting that this is a linear system of differential equations, the classical approach leads us to an ansatz of the form\n",
      "\n",
      "\\begin{align}\n",
      "x_j(t) = e^{i(\\xi j- \\omega t)}.\n",
      "\\end{align}\n",
      "\n",
      "**What dispersion relation does this lead to?**"
     ]
    },
    {
     "cell_type": "markdown",
     "metadata": {},
     "source": [
      "The result of this analysis is that we can solve the problem by superposition of modes.  The different modes do not interact, but simply propagate at different speeds along the chain."
     ]
    },
    {
     "cell_type": "heading",
     "level": 3,
     "metadata": {},
     "source": [
      "Simulating the system"
     ]
    },
    {
     "cell_type": "markdown",
     "metadata": {},
     "source": [
      "To simulate the chain of linear springs, we have to discretize in time, too.  We will be interested in what happens to the energy in the system, so it is important to choose a time discretization that conserves energy.  The simplest such method is the formula\n",
      "\n",
      "$$x''(t) \\approx x(t+\\Delta t) - 2 x(t) + x(t-\\Delta t).$$\n",
      "\n",
      "This discretization will change the dispersion relation, but the new dispersion relation will agree with the one we derived in the limit $\\Delta t \\to 0$."
     ]
    },
    {
     "cell_type": "code",
     "collapsed": false,
     "input": [
      "# Implement linear spring chain\n",
      "m = 1.\n",
      "k = 1.\n",
      "J = 64\n",
      "\n",
      "x = np.linspace(0,1,J) # Equilibrium\n",
      "x += 0.1*np.sin(2*np.pi*x)\n",
      "plt.plot(x,x*0,'or');\n",
      "\n",
      "xx = [x.copy()]\n",
      "dt = 1.0\n",
      "nsteps = 100\n",
      "tt = [0.]\n",
      "\n",
      "# Euler for first step -- do nothing because initial velocity is zero\n",
      "xx.append(x.copy())\n",
      "tt.append(0.+dt)\n",
      "for n in range(2,100):\n",
      "    x[1:-1] = 2*xx[-1][1:-1] - xx[-2][1:-1] + dt**2 * k/m * (x[2:]-2*x[1:-1]+x[:-2])\n",
      "    xx.append(x.copy())\n",
      "    tt.append(n*dt)"
     ],
     "language": "python",
     "metadata": {},
     "outputs": []
    },
    {
     "cell_type": "code",
     "collapsed": false,
     "input": [
      "def plot_energy(xx,ax,nmodes=5):\n",
      "    omega = (2*np.sin(np.pi*np.arange(J)/J)) # freq\n",
      "    dists = 0*xx[0]\n",
      "    for m in range(1,nmodes):\n",
      "        E_p = 105*np.abs(omega[m]*np.array([np.fft.fft(np.diff(xx[i]))[m] for i in range(1,len(xx)-1)]))**2\n",
      "        E_k = np.abs(np.array([np.fft.fft((xx[i+1]-xx[i-1])/(2*dt))[m] for i in range(1,len(xx)-1)]))**2\n",
      "        ax.plot(E_p+E_k)\n",
      "    ax.legend([str(m) for m in range(1,nmodes)],title='Mode')\n",
      "    ax.set_xlabel('t')\n",
      "    ax.set_ylabel('Energy')\n",
      "\n",
      "def plot_chain(xx,nframes=20):\n",
      "    fig, ax = plt.subplots(2,2,figsize=(10,6))\n",
      "\n",
      "    # Mass locations\n",
      "    line1, = ax[0,0].plot([],[],'or',ms=5)\n",
      "    ax[0,0].set_xlim((0.,1.))\n",
      "\n",
      "    # Spring lengths\n",
      "    line2, = ax[1,0].plot([],[],'-k',lw=3)\n",
      "    ax[1,0].set_xlim((0,J-2))\n",
      "    dx = xx[0][1]-xx[0][0]\n",
      "    ax[1,0].set_ylim((-0.01,0.1))\n",
      "\n",
      "    # Energy\n",
      "    plot_energy(xx,ax[0,1])\n",
      "    vline, = ax[0,1].plot([],[],'--k',lw=3)\n",
      "    ax[0,1].set_ylim(0.1,0.5)\n",
      "    \n",
      "    skip = len(xx)/nframes\n",
      "    xall = xx[::skip]\n",
      "    \n",
      "    def plot_frame(i):\n",
      "        line1.set_data(xall[i],0*xall[i])\n",
      "        line2.set_data(range(len(xall[i])-1),np.diff(xall[i]))\n",
      "        vline.set_data([i*skip,i*skip],[0,0.5])\n",
      "        #fig.set_title('t='+str(i))\n",
      "\n",
      "    return animation.FuncAnimation(fig, plot_frame, frames=len(xall), interval=20)"
     ],
     "language": "python",
     "metadata": {},
     "outputs": []
    },
    {
     "cell_type": "code",
     "collapsed": false,
     "input": [
      "fig, ax = plt.subplots(figsize=(12,3))\n",
      "plot_energy(xx,ax,nmodes=5)"
     ],
     "language": "python",
     "metadata": {},
     "outputs": []
    },
    {
     "cell_type": "code",
     "collapsed": false,
     "input": [
      "nframes = 20\n",
      "plot_chain(xx,nframes)"
     ],
     "language": "python",
     "metadata": {},
     "outputs": []
    },
    {
     "cell_type": "code",
     "collapsed": false,
     "input": [
      "fig, ax = plt.subplots(1,1,figsize=(6,6))\n",
      "tdarr = np.empty([len(xx[0])-1,len(xx)])\n",
      "for i in range(len(xx)):\n",
      "    tdarr[:,i] = np.diff(xx[i])\n",
      "ax.imshow(tdarr.T,aspect=(float(tdarr.shape[0])/tdarr.shape[1]),cmap='RdBu');"
     ],
     "language": "python",
     "metadata": {},
     "outputs": []
    },
    {
     "cell_type": "heading",
     "level": 3,
     "metadata": {},
     "source": [
      "Nonlinear springs"
     ]
    },
    {
     "cell_type": "markdown",
     "metadata": {},
     "source": [
      "For larger displacements, springs behave nonlinearly.  The simplest generalization of the system of above is to add a quadratic force term:\n",
      "\n",
      "\\begin{align}\n",
      "    F_{j+1/2} & = k (x_{j+1} - x_j) + \\alpha k (x_{j+1}-x_j)^2 \\\\\n",
      "    F_{j-1/2} & = k (x_j - x_{j-1}) + \\alpha k (x_{j}-x_{j-1})^2,\n",
      "\\end{align}\n",
      "\n",
      "which leads to the system\n",
      "\n",
      "\\begin{align}\n",
      "x''_j(t) = \\frac{k}{m} \\left((x_{j+1} - 2 x_j + x_{j-1}) + \\alpha (x_{j+1}-x_j)^2  - \\alpha (x_{j}-x_{j-1})^2 \\right).\n",
      "\\end{align}"
     ]
    },
    {
     "cell_type": "markdown",
     "metadata": {},
     "source": [
      "What can we say about this system?  Not very much.  The nonlinearity means that different modes will couple together, and that low-wavenumber mode interactions will generate higher and higher wavenumber modes.\n",
      "\n",
      "In fact, the true behavior of such systems -- even for small numbers of masses $J$ -- was not understood even in the early 1950s."
     ]
    },
    {
     "cell_type": "markdown",
     "metadata": {},
     "source": [
      "Renowned physicist Enrico Fermi and mathematician Stanislaw Ulam decided to use the new MANIAC computer to investigate.  Together with John Pasta and Mary Tsingou, they set up the first real computer experiment in mathematical physics, simulating the system above with just 64 masses.  They initialized the system with just one low-frequency mode, and expected to demonstrate that all 64 modes would eventually be excited."
     ]
    },
    {
     "cell_type": "code",
     "collapsed": false,
     "input": [
      "# Implement nonlinear spring chain\n",
      "m = 1.\n",
      "k = 1.\n",
      "J = 64\n",
      "alpha = 1.0\n",
      "\n",
      "x = np.linspace(0,1,J) # Equilibrium\n",
      "x += 0.1*np.sin(2*np.pi*x)\n",
      "plt.plot(x,x*0,'or');\n",
      "\n",
      "xx = [x.copy()]\n",
      "dt = 0.5\n",
      "\n",
      "# Euler for first step -- do nothing because initial velocity is zero\n",
      "xx.append(x.copy())\n",
      "for n in range(2,100000):\n",
      "    x[1:-1] = 2*xx[-1][1:-1] - xx[-2][1:-1] + dt**2 * k/m * (x[2:]-2*x[1:-1]+x[:-2] \n",
      "                                        + alpha*((xx[-1][2:]-xx[-1][1:-1])**2-(xx[-1][1:-1]-xx[-1][:-2])**2))\n",
      "    xx.append(x.copy())"
     ],
     "language": "python",
     "metadata": {},
     "outputs": []
    },
    {
     "cell_type": "code",
     "collapsed": false,
     "input": [
      "fig, ax = plt.subplots(figsize=(12,3))\n",
      "plot_energy(xx,ax,nmodes=10)"
     ],
     "language": "python",
     "metadata": {},
     "outputs": []
    },
    {
     "cell_type": "code",
     "collapsed": false,
     "input": [
      "nframes = 50\n",
      "plot_chain(xx,nframes)"
     ],
     "language": "python",
     "metadata": {},
     "outputs": []
    },
    {
     "cell_type": "code",
     "collapsed": false,
     "input": [
      "yy = xx[1:10000]\n",
      "fig, ax = plt.subplots(1,1,figsize=(14,14))\n",
      "tdarr = np.empty([len(yy[0])-1,len(yy)])\n",
      "for i in range(len(yy)):\n",
      "    tdarr[:,i] = np.diff(yy[i])\n",
      "ax.imshow(tdarr,aspect=(float(tdarr.shape[1])/tdarr.shape[0]),cmap='RdBu');\n",
      "#plt.colorbar(ax)"
     ],
     "language": "python",
     "metadata": {},
     "outputs": []
    },
    {
     "cell_type": "heading",
     "level": 1,
     "metadata": {},
     "source": [
      "Solitary waves"
     ]
    },
    {
     "cell_type": "code",
     "collapsed": false,
     "input": [
      "# Implement nonlinear spring chain\n",
      "m = 1.\n",
      "k = 1.\n",
      "J = 128\n",
      "alpha = 5.0\n",
      "\n",
      "x = np.linspace(0,1,J) # Equilibrium\n",
      "x = np.cumsum(np.exp(-300*(x-0.5)**2))\n",
      "x = x/x[-1]\n",
      "\n",
      "plt.plot(np.diff(x));#x,x*0,'or');\n",
      "\n",
      "xx = [x.copy()]\n",
      "dt = 0.5\n",
      "\n",
      "# Euler for first step -- do nothing because initial velocity is zero\n",
      "xx.append(x.copy())\n",
      "for n in range(2,20000):\n",
      "    x[1:-1] = 2*xx[-1][1:-1] - xx[-2][1:-1] + dt**2 * k/m * (x[2:]-2*x[1:-1]+x[:-2] \n",
      "                                        + alpha*((xx[-1][2:]-xx[-1][1:-1])**2-(xx[-1][1:-1]-xx[-1][:-2])**2))\n",
      "    xx.append(x.copy())"
     ],
     "language": "python",
     "metadata": {},
     "outputs": []
    },
    {
     "cell_type": "code",
     "collapsed": false,
     "input": [
      "yy = xx[1:1000]\n",
      "fig, ax = plt.subplots(1,1,figsize=(14,14))\n",
      "tdarr = np.empty([len(yy[0])-1,len(yy)])\n",
      "for i in range(len(yy)):\n",
      "    tdarr[:,i] = np.diff(yy[i])\n",
      "ax.imshow(tdarr,aspect=(float(tdarr.shape[1])/tdarr.shape[0]),cmap='RdBu');\n",
      "#plt.colorbar(ax)"
     ],
     "language": "python",
     "metadata": {},
     "outputs": []
    },
    {
     "cell_type": "code",
     "collapsed": false,
     "input": [
      "zz = xx[1:600]\n",
      "nframes = 100\n",
      "plot_chain(zz,nframes)"
     ],
     "language": "python",
     "metadata": {},
     "outputs": []
    },
    {
     "cell_type": "code",
     "collapsed": false,
     "input": [],
     "language": "python",
     "metadata": {},
     "outputs": []
    }
   ],
   "metadata": {}
  }
 ]
}