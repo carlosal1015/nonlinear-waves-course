{
 "cells": [
  {
   "cell_type": "code",
   "execution_count": null,
   "metadata": {
    "collapsed": false
   },
   "outputs": [],
   "source": [
    "%matplotlib inline\n",
    "import numpy as np\n",
    "import matplotlib.pyplot as plt\n",
    "import matplotlib\n",
    "from matplotlib import animation\n",
    "from JSAnimation import IPython_display # if you don't have this, get it from: https://github.com/jakevdp/JSAnimation"
   ]
  },
  {
   "cell_type": "markdown",
   "metadata": {},
   "source": [
    "# Dealing with nonlinearity and stiffness"
   ]
  },
  {
   "cell_type": "markdown",
   "metadata": {},
   "source": [
    "$$\n",
    "\\newcommand{\\F}{\\mathcal F}\n",
    "\\newcommand{\\Finv}{{\\mathcal F}^{-1}}\n",
    "$$\n",
    "In the last notebook, we saw that discretizing Burgers' equation can be problematic because of the combination of stiffness and nonlinearity.  Fully explicit methods are slow because the stiff term requires small step sizes, while fully implicit methods are slow because of the need to solve a nonlinear system at each step.  Some solutions we know about now are:\n",
    "\n",
    "- Operator splitting methods: handle the nonlinear part explicitly and the linear part implicitly or exactly\n",
    "- Integrating factor methods: remove the stiff linear part by a problem-specific transformation\n",
    "\n",
    "For the KdV equation, we have the same difficulty, but the stiffness is even worse since the linear term involves a third derivative.  In [the first spectral methods notebook](Spectral_methods_1.ipynb), we applied the integrating factor approach to remove the stiffness.  Here is a direct approach, based on a pseudospectral semi-discretization.  We start with KdV:\n",
    "\n",
    "$$\n",
    "u_t = -u u_x - u_{xxx}\n",
    "$$\n",
    "and compute the spatial derivatives via\n",
    "\n",
    "\\begin{align}\n",
    "u_x & = \\Finv(i\\xi \\F(u)) \\\\\n",
    "u_{xxx} & = \\Finv(-i\\xi^3 \\F(u)).\n",
    "\\end{align}\n",
    "This gives\n",
    "$$\n",
    "u'(t) = -u \\Finv(i\\xi \\F(u)) - \\Finv(-i\\xi^3 \\F(u))\n",
    "$$"
   ]
  },
  {
   "cell_type": "markdown",
   "metadata": {},
   "source": [
    "What time step should be stable for this discretization?  Let's construct a rough \"linearized\" spectrum, using the same code from the last notebook but adapted to the KdV equation:"
   ]
  },
  {
   "cell_type": "code",
   "execution_count": null,
   "metadata": {
    "collapsed": false
   },
   "outputs": [],
   "source": [
    "def F_matrix(m):\n",
    "    F = np.zeros((m,m),dtype=complex)\n",
    "    for j in range(m):\n",
    "        v = np.zeros(m)\n",
    "        v[j] = 1.\n",
    "        F[:,j] = np.fft.fft(v)\n",
    "    return F\n",
    "\n",
    "L = 2*np.pi\n",
    "m = 256\n",
    "x = np.arange(-m/2,m/2)*(L/m)\n",
    "xi = np.fft.fftfreq(m)*m*2*np.pi/L\n",
    "\n",
    "A = 25; B = 16;\n",
    "u = 3*A**2/np.cosh(0.5*(A*(x+2.)))**2 + 3*B**2/np.cosh(0.5*(B*(x+1)))**2\n",
    "#u = u/u\n",
    "\n",
    "F = F_matrix(m)\n",
    "Finv = np.linalg.inv(F)\n",
    "D1 = np.diag(1j*xi)\n",
    "D3 = D1**3\n",
    "rhs_matrix  = np.dot(-np.diag(u),np.dot(Finv,np.dot(D1,F))) - np.dot(Finv,np.dot(D3,F))\n",
    "rhs2_matrix = np.dot(-np.diag(u),np.dot(Finv,np.dot(D1,F)))\n",
    "\n",
    "lamda = np.linalg.eigvals(rhs_matrix)\n",
    "lamda2 = np.linalg.eigvals(rhs2_matrix)\n",
    "plt.plot(np.real(lamda),np.imag(lamda),'or',np.real(lamda2),np.imag(lamda2),'ob')\n",
    "#plt.plot(np.real(lamda),np.imag(lamda),'or')\n",
    "plt.axis('equal');\n",
    "plt.legend(['Full RHS','$u u_x$ only'])"
   ]
  },
  {
   "cell_type": "markdown",
   "metadata": {},
   "source": [
    "As you should have expected, the eigenvalues are purely imaginary for this dispersive wave equation.  The largest eigenvalues come from the 3rd-derivative term, and scale like $(m/2)^3$:"
   ]
  },
  {
   "cell_type": "code",
   "execution_count": null,
   "metadata": {
    "collapsed": false
   },
   "outputs": [],
   "source": [
    "print np.max(np.abs(lamda))\n",
    "print (m/2)**3"
   ]
  },
  {
   "cell_type": "markdown",
   "metadata": {},
   "source": [
    "In constructing the spectrum, I used for $u$ the initial condition that we'll use below.  But it doesn't much matter what function we take for $u$, because the 3rd-derivative term is so stiff."
   ]
  },
  {
   "cell_type": "markdown",
   "metadata": {},
   "source": [
    "# Time integration\n",
    "\n",
    "We'll use a 3rd-order Runge-Kutta method to integrate in time. How large a step size can we take?  Let's see."
   ]
  },
  {
   "cell_type": "code",
   "execution_count": null,
   "metadata": {
    "collapsed": false
   },
   "outputs": [],
   "source": [
    "from nodepy import rk\n",
    "ssp33 = rk.loadRKM('SSP33')\n",
    "ts = rk.linearly_stable_step_size(ssp33,rhs_matrix,tol=1.e-2)\n",
    "print ts\n",
    "print ts*(m/2)**3\n",
    "print ssp33.imaginary_stability_interval()"
   ]
  },
  {
   "cell_type": "markdown",
   "metadata": {},
   "source": [
    "The step size we can take is given by the length of the imaginary axis interval contained in the Runge-Kutta method's stability region, divided by the largest eigenvalue $(m/2)^3$."
   ]
  },
  {
   "cell_type": "markdown",
   "metadata": {},
   "source": [
    "# Implementation"
   ]
  },
  {
   "cell_type": "code",
   "execution_count": null,
   "metadata": {
    "collapsed": false
   },
   "outputs": [],
   "source": [
    "def rhs(u, xi, equation='KdV'):\n",
    "    uhat = np.fft.fft(u)\n",
    "    if equation == 'Burgers': \n",
    "        return -u*np.real(np.fft.ifft(1j*xi*uhat)) + np.real(np.fft.ifft(-xi**2*uhat))\n",
    "    elif equation == 'KdV':\n",
    "        return -u*np.real(np.fft.ifft(1j*xi*uhat)) - np.real(np.fft.ifft(-1j*xi**3*uhat))"
   ]
  },
  {
   "cell_type": "code",
   "execution_count": null,
   "metadata": {
    "collapsed": false
   },
   "outputs": [],
   "source": [
    "def rk3(u,xi,rhs):\n",
    "    y2 = u + dt*rhs(u,xi)\n",
    "    y3 = 0.75*u + 0.25*(y2 + dt*rhs(y2,xi))\n",
    "    u_new = 1./3 * u + 2./3 * (y3 + dt*rhs(y3,xi))\n",
    "    return u_new"
   ]
  },
  {
   "cell_type": "code",
   "execution_count": null,
   "metadata": {
    "collapsed": false
   },
   "outputs": [],
   "source": [
    "# Grid\n",
    "m = 256\n",
    "L = 2*np.pi\n",
    "x = np.arange(-m/2,m/2)*(L/m)\n",
    "xi = np.fft.fftfreq(m)*m*2*np.pi/L\n",
    "\n",
    "dt = 1.75/((m/2)**3)\n",
    "print 'dt = ', dt\n",
    "\n",
    "A = 25; B = 16;\n",
    "u = 3*A**2/np.cosh(0.5*(A*(x+2.)))**2 + 3*B**2/np.cosh(0.5*(B*(x+1)))**2\n",
    "tmax = 0.006\n",
    "\n",
    "num_plots = 50\n",
    "nplt = np.floor((tmax/num_plots)/dt)\n",
    "nmax = int(round(tmax/dt))\n",
    "\n",
    "fig = plt.figure()\n",
    "axes = fig.add_subplot(111)\n",
    "line, = axes.plot(x,u,lw=3)\n",
    "\n",
    "frames = [u.copy()]\n",
    "tt = [0]\n",
    "\n",
    "for n in range(1,nmax+1):\n",
    "    u_new = rk3(u,xi,rhs)\n",
    "\n",
    "    u = u_new.copy()\n",
    "    t = n*dt\n",
    "    # Plotting\n",
    "    if np.mod(n,nplt) == 0:\n",
    "        frames.append(u.copy())\n",
    "        tt.append(t)\n",
    "        \n",
    "def plot_frame(i):\n",
    "    line.set_data(x,frames[i])\n",
    "    axes.set_title('t= %.2f' % tt[i])\n",
    "    axes.set_xlim((-np.pi,np.pi))\n",
    "    \n",
    "matplotlib.animation.FuncAnimation(fig, plot_frame, frames=len(frames), interval=20)"
   ]
  },
  {
   "cell_type": "markdown",
   "metadata": {},
   "source": [
    "Now try taking $m=128$ in the code above.  What happens?  Can you say why?"
   ]
  },
  {
   "cell_type": "markdown",
   "metadata": {},
   "source": [
    "## Alternative discretizations"
   ]
  },
  {
   "cell_type": "markdown",
   "metadata": {},
   "source": [
    "There are a number of other relatively *ad hoc* approaches to developing non-stiff pseudospectral discretizations.  So far I have found no development of a general approach along these lines.  Thus it will be explained using KdV as an example."
   ]
  },
  {
   "cell_type": "markdown",
   "metadata": {},
   "source": [
    "Let's forget about the nonlinear term for the moment, and consider the equation\n",
    "$$\n",
    "u_t = u_{xxx}.\n",
    "$$\n",
    "Substituting our usual ansatz $u(x,t) = \\exp(i(\\xi x - \\omega t)$ in the above gives the dispersion relation:\n",
    "$$\n",
    "\\omega(\\xi) = \\xi^3.\n",
    "$$\n",
    "\n",
    "Next let us discretize with the midpoint method in Fourier space:\n",
    "$$\n",
    "\\frac{\\hat{u}^{n+1} - \\hat{u}^{n-1}}{2\\Delta t} = -i\\xi^3\\hat{u}^n.\n",
    "$$\n",
    "\n",
    "Of course, this is a bit silly since we know that we could solve this linear problem exactly in time.  So the idea is to replace the factor $-i\\xi^3$ on the right by some other function $g(\\xi)$ so that the midpoint method will give the exact answer:\n",
    "$$\n",
    "\\frac{\\hat{u}^{n+1} - \\hat{u}^{n-1}}{2\\Delta t} = g(\\xi) \\hat{u}^n.\n",
    "$$\n",
    "\n",
    "If $u$ is to be exact, then (using the exact dispersion relation) we should have\n",
    "\n",
    "\\begin{align}\n",
    "\\hat{u}^{n-1} & = \\hat{u}^n e^{i \\xi^3 \\Delta t} \\\\\n",
    "\\hat{u}^{n+1} & = \\hat{u}^n e^{-i \\xi^3 \\Delta t}.\n",
    "\\end{align}\n",
    "\n",
    "Substituting these in the equation with $g$ gives\n",
    "$$\n",
    "g(\\xi) = - \\frac{i}{\\Delta t} \\sin(\\xi^3 \\delta t).\n",
    "$$"
   ]
  },
  {
   "cell_type": "markdown",
   "metadata": {},
   "source": [
    "Based on all of this, we'll now semi-discretize KdV as follows:\n",
    "\n",
    "$$\n",
    "u'(t) = -u \\F^{-1}(i \\xi \\F(u)) - \\frac{i}{\\Delta t}\\F^{-1}\\left(\\sin(\\xi^3 \\delta t)\\F(u)\\right).\n",
    "$$"
   ]
  },
  {
   "cell_type": "markdown",
   "metadata": {},
   "source": [
    "The dispersive part of the spectrum of this discretization is much better behaved, as we can see:"
   ]
  },
  {
   "cell_type": "code",
   "execution_count": null,
   "metadata": {
    "collapsed": false
   },
   "outputs": [],
   "source": [
    "m = 256\n",
    "x = np.arange(-m/2,m/2)*(2*np.pi/m)\n",
    "dx = x[1]-x[0]\n",
    "L = x[-1]-x[0] + dx\n",
    "A = 25; B = 16;\n",
    "u = 3*A**2/np.cosh(0.5*(A*(x+2.)))**2 + 3*B**2/np.cosh(0.5*(B*(x+1)))**2\n",
    "#u = u/u\n",
    "\n",
    "F = F_matrix(m)\n",
    "Finv = np.linalg.inv(F)\n",
    "xi = np.fft.fftfreq(m)*m*2*np.pi/L\n",
    "D1 = np.diag(1j*xi)\n",
    "D3 = -1j*np.diag(np.sin(dt*xi**3))\n",
    "rhs_mod_matrix = np.dot(-np.diag(u),np.dot(Finv,np.dot(D1,F))) - np.dot(Finv,np.dot(D3,F))\n",
    "rhs2_mod_matrix = - np.dot(Finv,np.dot(D3,F))\n",
    "\n",
    "lamda = np.linalg.eigvals(rhs_mod_matrix)\n",
    "lamda2 = np.linalg.eigvals(rhs2_mod_matrix)\n",
    "plt.plot(np.real(lamda),np.imag(lamda),'or',np.real(lamda2),np.imag(lamda2),'ob')\n",
    "plt.axis('equal');"
   ]
  },
  {
   "cell_type": "code",
   "execution_count": null,
   "metadata": {
    "collapsed": false
   },
   "outputs": [],
   "source": [
    "from nodepy import rk\n",
    "ssp33 = rk.loadRKM('SSP33')\n",
    "ts = rk.linearly_stable_step_size(ssp33,rhs_mod_matrix,tol=1.e-2)\n",
    "print ts"
   ]
  },
  {
   "cell_type": "code",
   "execution_count": null,
   "metadata": {
    "collapsed": false
   },
   "outputs": [],
   "source": [
    "def rhs_mod(u, xi, dt):\n",
    "    uhat = np.fft.rfft(u)\n",
    "    return -u*np.real(np.fft.irfft(1j*xi*uhat)) - np.fft.irfft(-1j*np.sin(dt*xi**3)*uhat)/dt"
   ]
  },
  {
   "cell_type": "code",
   "execution_count": null,
   "metadata": {
    "collapsed": false
   },
   "outputs": [],
   "source": [
    "def rk3_mod(u,xi,rhs,dt):\n",
    "    y2 = u + dt*rhs(u,xi,dt)\n",
    "    y3 = 0.75*u + 0.25*(y2 + dt*rhs(y2,xi,dt))\n",
    "    u_new = 1./3 * u + 2./3 * (y3 + dt*rhs(y3,xi,dt))\n",
    "    return u_new\n",
    "\n",
    "def midpoint(u_old, u, xi, rhs, dt):\n",
    "    return u_old + 2*dt*rhs(u,xi,dt)"
   ]
  },
  {
   "cell_type": "code",
   "execution_count": null,
   "metadata": {
    "collapsed": false
   },
   "outputs": [],
   "source": [
    "# Grid\n",
    "m = 256\n",
    "L = 2*np.pi\n",
    "x = np.arange(-m/2,m/2)*(L/m)\n",
    "xi = np.fft.rfftfreq(m)*m*2*np.pi/L\n",
    "\n",
    "\n",
    "# Initial data\n",
    "A = 25; B = 16;\n",
    "u = 3*A**2/np.cosh(0.5*(A*(x+2.)))**2 + 3*B**2/np.cosh(0.5*(B*(x+1)))**2\n",
    "tmax = 0.006\n",
    "dt = 0.5/(np.max(u)*m/2)#2 * 1.75/((m/2)**3)\n",
    "\n",
    "num_plots = 50\n",
    "nplt = np.floor((tmax/num_plots)/dt)\n",
    "nmax = int(round(tmax/dt))\n",
    "\n",
    "fig = plt.figure()\n",
    "axes = fig.add_subplot(111)\n",
    "line, = axes.plot(x,u,lw=3)\n",
    "\n",
    "frames = [u.copy()]\n",
    "tt = [0]\n",
    "\n",
    "#Take one RK step\n",
    "u_new = rk3(u,xi,rhs_mod,dt)\n",
    "u_old = u.copy()\n",
    "u = u_new.copy()\n",
    "t = dt\n",
    "\n",
    "for n in range(1,nmax+1):\n",
    "    u_new = midpoint(u_old, u, xi, rhs_mod, dt)\n",
    "    u_old[:] = u\n",
    "    u[:] = u_new\n",
    "    \n",
    "    t = n*dt\n",
    "    # Plotting\n",
    "    if np.mod(n,nplt) == 0:\n",
    "        frames.append(u.copy())\n",
    "        tt.append(t)\n",
    "        \n",
    "def plot_frame(i):\n",
    "    line.set_data(x,frames[i])\n",
    "    axes.set_title('t= %.2f' % tt[i])\n",
    "    axes.set_xlim((-np.pi,np.pi))\n",
    "    \n",
    "matplotlib.animation.FuncAnimation(fig, plot_frame, frames=len(frames), interval=20)"
   ]
  },
  {
   "cell_type": "code",
   "execution_count": null,
   "metadata": {
    "collapsed": false
   },
   "outputs": [],
   "source": [
    "print dt"
   ]
  },
  {
   "cell_type": "code",
   "execution_count": null,
   "metadata": {
    "collapsed": false
   },
   "outputs": [],
   "source": [
    "print np.max(np.abs(lamda))\n",
    "print np.max(u)*(m/2)"
   ]
  },
  {
   "cell_type": "code",
   "execution_count": null,
   "metadata": {
    "collapsed": false
   },
   "outputs": [],
   "source": [
    "print np.max(np.abs(lamda))/(np.max(u)*(m/2))"
   ]
  },
  {
   "cell_type": "code",
   "execution_count": null,
   "metadata": {
    "collapsed": true
   },
   "outputs": [],
   "source": [
    "np.fft.irfft?"
   ]
  },
  {
   "cell_type": "code",
   "execution_count": null,
   "metadata": {
    "collapsed": false
   },
   "outputs": [],
   "source": [
    "u - np.fft.irfft(np.fft.rfft(u))"
   ]
  },
  {
   "cell_type": "code",
   "execution_count": null,
   "metadata": {
    "collapsed": true
   },
   "outputs": [],
   "source": [
    "xi = np.fft.rfftfreq(m)*m*2*np.pi/L\n"
   ]
  },
  {
   "cell_type": "code",
   "execution_count": null,
   "metadata": {
    "collapsed": false
   },
   "outputs": [],
   "source": [
    "xi"
   ]
  },
  {
   "cell_type": "code",
   "execution_count": null,
   "metadata": {
    "collapsed": true
   },
   "outputs": [],
   "source": []
  }
 ],
 "metadata": {
  "kernelspec": {
   "display_name": "Python 2",
   "language": "python",
   "name": "python2"
  },
  "language_info": {
   "codemirror_mode": {
    "name": "ipython",
    "version": 2
   },
   "file_extension": ".py",
   "mimetype": "text/x-python",
   "name": "python",
   "nbconvert_exporter": "python",
   "pygments_lexer": "ipython2",
   "version": "2.7.9"
  }
 },
 "nbformat": 4,
 "nbformat_minor": 0
}
