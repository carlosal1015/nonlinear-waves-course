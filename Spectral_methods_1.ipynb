{
 "metadata": {
  "name": "",
  "signature": "sha256:5062acdc6c849df7054c270bc609d7e0bc3b5523336fe7ae284d71b6d40b5f63"
 },
 "nbformat": 3,
 "nbformat_minor": 0,
 "worksheets": [
  {
   "cells": [
    {
     "cell_type": "markdown",
     "metadata": {},
     "source": [
      "Note: The code used here is adapted from the MATLAB code of Program 27 of Trefethen's *Spectral Methods in Matlab*."
     ]
    },
    {
     "cell_type": "code",
     "collapsed": false,
     "input": [
      "%matplotlib inline\n",
      "import numpy as np\n",
      "import matplotlib.pyplot as plt\n",
      "import matplotlib\n",
      "from matplotlib import animation\n",
      "from clawpack.visclaw.JSAnimation import IPython_display"
     ],
     "language": "python",
     "metadata": {},
     "outputs": []
    },
    {
     "cell_type": "heading",
     "level": 1,
     "metadata": {},
     "source": [
      "Advection-diffusion"
     ]
    },
    {
     "cell_type": "markdown",
     "metadata": {},
     "source": [
      "Let's solve:\n",
      "\n",
      "$$u_t + u_x = \\epsilon u_{xx}$$\n",
      "\n",
      "Taking a Fourier transform gives:\n",
      "\n",
      "$$\\hat{u}_t + i\\xi\\hat{u} = -\\xi^2 \\epsilon \\hat{u}$$\n",
      "\n",
      "We can solve this scalar ODE exactly:\n",
      "\n",
      "$$\\hat{u}'(t) = e^{(-i \\xi - \\epsilon \\xi^2)t} \\hat{u}(0).$$"
     ]
    },
    {
     "cell_type": "code",
     "collapsed": false,
     "input": [
      "epsilon = 0.1\n",
      "\n",
      "tmax = 2.0\n",
      "\n",
      "# Grid\n",
      "m = 64  # # of points in space\n",
      "N = 10  # # of times to show output\n",
      "x = np.arange(-m/2,m/2)*(2*np.pi/m)\n",
      "dx = x[1]-x[0]\n",
      "L = x[-1]-x[0] + dx\n",
      "k = tmax/N\n",
      "\n",
      "# Initial data\n",
      "u = np.sin(x)**2 * (x<0.)\n",
      "\n",
      "uhat0 = np.fft.fft(u)\n",
      "\n",
      "# This is the order in which numpy's FFT gives the frequencies:\n",
      "xi=np.fft.fftfreq(m)*m/(L/(2*np.pi))\n",
      "\n",
      "# Set up plotting\n",
      "fig = plt.figure()\n",
      "axes = fig.add_subplot(111)\n",
      "line, = axes.plot(x,u,lw=3)\n",
      "axes.set_xlim((x[0],x[-1]))\n",
      "axes.set_ylim((0.,1.))\n",
      "\n",
      "# Store solutions for plotting\n",
      "frames = [u.copy()]\n",
      "\n",
      "for n in range(1,N+1):\n",
      "    t = n*k\n",
      "    uhat = np.exp(-(1.j*xi+epsilon*xi**2)*t)*uhat0\n",
      "    u = np.real(np.fft.ifft(uhat))\n",
      "    frames.append(u.copy())\n",
      "\n",
      "\n",
      "def plot_frame(i):\n",
      "    line.set_data(x,frames[i])\n",
      "    axes.set_title('t='+str(i*k))\n",
      "\n",
      "matplotlib.animation.FuncAnimation(fig, plot_frame, frames=len(frames), interval=20)"
     ],
     "language": "python",
     "metadata": {},
     "outputs": []
    },
    {
     "cell_type": "markdown",
     "metadata": {},
     "source": [
      "#Burgers' equation\n",
      "\n",
      "Next, let's solve the viscous Burgers' equation:\n",
      "$$u_t + uu_x = \\epsilon u_{xx}.$$\n",
      "This equation includes both a nonlinear term ($uu_x$) and a dissipative term ($u_{xx}$).\n",
      "\n",
      "We'll use the Fourier transform again, but because of the nonlinear term we won't be able to integrate exactly in time.  Instead, we'll apply a *pseudospectral* method in space and a *Runge-Kutta* method in time.  The second-derivative term would make the problem stiff, but we'll avoid this with an integrating factor.\n",
      "\n",
      "The nonlinear term causes steepening, which involves generation of high frequency modes.  For $\\epsilon \\ll 1$, the dissipative term only becomes important when the solution gets very steep; it prevents the formation of shock waves (discontinuities)."
     ]
    },
    {
     "cell_type": "markdown",
     "metadata": {},
     "source": [
      "We can rewrite Burgers' equation as\n",
      "$$\n",
      "u_t + \\frac{1}{2}(u^2)_x = \\epsilon u_{xx}.\n",
      "$$\n",
      "\n",
      "Taking the Fourier transform, we replace each $x$-derivative by $i \\xi$ and replace $u$ by it's Fourier transform $\\hat{u}$:\n",
      "$$\n",
      "\\hat{u}_t + \\frac{i}{2}\\xi \\hat{u^2} = -\\xi^2 \\epsilon \\hat{u}.\n",
      "$$\n",
      "As discussed in class, the dissipative term (involving $\\xi^2$) leads to stiffness.  However, we can get rid of it by multiplying everything by the *integrating factor* $\\exp(\\xi^2 \\epsilon t)$.  This gives\n",
      "$$\n",
      "e^{\\xi^2 \\epsilon t} \\hat{u}_t + \\frac{i}{2}\\xi e^{\\xi^2 \\epsilon t} \\hat{u^2} = -\\xi^2 \\epsilon e^{\\xi^2 \\epsilon t}\\hat{u}.\n",
      "$$\n",
      "Next we define $\\hat{U} = e^{\\xi^2 \\epsilon t} \\hat{u}$.  Then $\\hat{U}_t = \\xi^2 \\epsilon \\hat{U} + e^{\\xi^2 \\epsilon t} \\hat{u}_t$.  So we get\n",
      "$$\n",
      "\\hat{U}_t - \\xi^2 \\epsilon \\hat{U}  + \\frac{i}{2}\\xi e^{\\xi^2 \\epsilon t} \\hat{u^2} = -\\xi^2 \\epsilon \\hat{U}.\n",
      "$$\n",
      "Now the stiff terms cancel, leaving\n",
      "$$\n",
      "\\hat{U}_t  + \\frac{i}{2}\\xi e^{\\xi^2 \\epsilon t} \\hat{u^2} = 0.\n",
      "$$\n",
      "We can view this as a semi-discretization of the original PDE, but in the frequency domain.  We'll solve the problem in the frequency domain, but in order to evaluate the nonlinear term $\\hat{u^2}$, we'll use the technique of *pseudospectral collocation*.  That means that we'll Fourier transform back to the spatial domain, compute $u^2$, and then transform back to the frequency domain.  The semi-discretization then looks like this:\n",
      "$$\\hat{U}'(t) = - \\frac{i}{2}\\xi \\exp(\\xi^2 \\epsilon t)k{\\mathcal F}(({\\mathcal F}^{-1}(\\exp(-\\xi^2 \\epsilon t)\\hat{U}))^2).$$\n",
      "Here ${\\mathcal F}$ is the Fourier transform.\n",
      "\n",
      "Finally, we need to discretize in time.  We'll use the 4th order Runge-Kutta method.  The code implementing all of this is below."
     ]
    },
    {
     "cell_type": "code",
     "collapsed": false,
     "input": [
      "epsilon = 0.1\n",
      "\n",
      "# Grid\n",
      "m = 64\n",
      "x = np.arange(-m/2,m/2)*(2*np.pi/m)\n",
      "dx = x[1]-x[0]\n",
      "L = x[-1]-x[0] + dx\n",
      "k = 2./m\n",
      "tmax = 3.\n",
      "\n",
      "# Initial data\n",
      "u = np.sin(x)**2 * (x<0.)\n",
      "uhat = np.fft.fft(u)\n",
      "\n",
      "# This is the order in which numpy's FFT gives the frequencies:\n",
      "xi=np.fft.fftfreq(m)*m/(L/(2*np.pi))\n",
      "\n",
      "eps_xi2 = epsilon * xi**2.\n",
      "g = -0.5j * k * xi\n",
      "E = np.exp(-k*eps_xi2/2.)\n",
      "E2 = E**2\n",
      "\n",
      "nplt = np.floor((tmax/25)/k)\n",
      "nmax = int(round(tmax/k))\n",
      "\n",
      "fig = plt.figure()\n",
      "axes = fig.add_subplot(111)\n",
      "line, = axes.plot(x,u,lw=3)\n",
      "\n",
      "frames = [u.copy()]\n",
      "\n",
      "for n in range(1,nmax+1):\n",
      "    # Runge-Kutta stages\n",
      "    a = g*np.fft.fft(np.real(np.fft.ifft(uhat))**2)\n",
      "    b = g*np.fft.fft(np.real(np.fft.ifft(E*(uhat+a/2.)))**2)\n",
      "    c = g*np.fft.fft(np.real(np.fft.ifft(E*uhat + b/2) )**2)\n",
      "    d = g*np.fft.fft(np.real(np.fft.ifft(E2*uhat + E*c))**2)\n",
      "    uhat = E2*uhat + (E2*a + 2*E*(b+c) + d)/6.\n",
      "    \n",
      "    t = n*k\n",
      "    # Plotting\n",
      "    if np.mod(n,nplt) == 0:\n",
      "        u = np.squeeze(np.real(np.fft.ifft(uhat)))\n",
      "        frames.append(u.copy())\n",
      "        \n",
      "def plot_frame(i):\n",
      "    line.set_data(x,frames[i])\n",
      "    axes.set_title('t='+str(t))\n",
      "    axes.set_xlim((-np.pi,np.pi))\n",
      "    axes.set_ylim((0.,1.))\n",
      "    \n",
      "matplotlib.animation.FuncAnimation(fig, plot_frame, frames=len(frames), interval=20)"
     ],
     "language": "python",
     "metadata": {},
     "outputs": []
    },
    {
     "cell_type": "markdown",
     "metadata": {},
     "source": [
      "Can you identify the effects of the nonlinear and dissipative terms in the solution you see?  Try reducing $\\epsilon$.  What happens?  Is your numerical solution still accurate?  What if you also increase $m$?"
     ]
    },
    {
     "cell_type": "markdown",
     "metadata": {},
     "source": [
      "# Korteweg-de Vries (KdV) equation\n",
      "\n",
      "Burgers' equation is interesting, but it has a much more remarkable cousin: the KdV equation:\n",
      "\n",
      "$$u_t + uu_x + u_{xxx} = 0$$\n",
      "\n",
      "We'll solve this using the same approach: a Fourier pseudospectral method with an integrating factor.  This equation includes both a nonlinear term ($uu_x$) and a dispersive term ($u_{xxx}$).\n",
      "The nonlinear term again causes steepening, which involves generation of high frequency modes, while the dispersive term dramatically modifies the propagation of those high-frequency modes.  The combination can lead to remarkable effects, as we will see."
     ]
    },
    {
     "cell_type": "markdown",
     "metadata": {},
     "source": [
      "First, however, we need to deal with a major computational difficulty.  The $u_{xxx}$ term would lead to an even more stiff system of ODEs.  To avoid this, we'll again multiply the whole equation by an integrating factor.  This time the factor we need is easily seen to be $\\exp(-i\\xi^3 t)$, which leads to the equation\n",
      "$$\\hat{U}_t + \\frac{i}{2} \\xi \\exp(-ik^3 t)\\hat{u^2} = 0.$$\n",
      "\n",
      "Here $\\hat{u}$ is the Fourier transform of $u$ and $\\hat{U}=\\exp(-i\\xi^3 t)U$.  So our semi-discretization is\n",
      "\n",
      "$$\\hat{U}'(t) = - \\frac{i}{2}\\xi \\exp(-i\\xi^3 t){\\mathcal F}(({\\mathcal F}^{-1}(\\exp(i\\xi^3 t)\\hat{U}))^2).$$\n",
      "\n",
      "**Modify the code for solving Burgers' equation above to solve the KdV equation.**  You should find that taking $k=0.4/m^2$ gives a stable time step."
     ]
    },
    {
     "cell_type": "markdown",
     "metadata": {},
     "source": [
      "The separate waves that quickly emerge, known as solitons, are very special solutions.  The KdV equation is nonlinear, so its solutions will generally change shape over time.  However, solitons are special *traveling wave* solutions that simply translate without changing shape.  Even when two of them collide, the only effect they have on each other is through a *phase shift*.  You can see this effect by using the initial data below."
     ]
    },
    {
     "cell_type": "code",
     "collapsed": false,
     "input": [
      "A = 25; B = 16;\n",
      "u = 3*A**2/np.cosh(0.5*(A*(x+2.)))**2 + 3*B**2/np.cosh(0.5*(B*(x+1)))**2"
     ],
     "language": "python",
     "metadata": {},
     "outputs": []
    },
    {
     "cell_type": "markdown",
     "metadata": {},
     "source": [
      "The KdV equation has many remarkable properties.  It is used as a model for shallow water waves, and the soliton solutions can even be observed in real life; they were noticed for the first time by [John Scott Russell](http://www.ma.hw.ac.uk/~chris/scott_russell.html) as he rode his horse by a shipping canal.  The KdV equation is one of the simplest examples of an exactly integrable PDE and can be solved analytically by the [inverse scattering transform](http://en.wikipedia.org/wiki/Inverse_scattering_transform), which connects it to Schrodinger's equation!\n",
      "\n",
      "Try experimenting with this solver by using different initial conditions or by changing the coefficient of the dispersive term.  What happens if the initial condition is negative rather than positive?  What if the dispersive term is multiplied by a small parameter $\\epsilon\\ll 1$?"
     ]
    }
   ],
   "metadata": {}
  }
 ]
}