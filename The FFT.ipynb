{
 "metadata": {
  "name": "",
  "signature": "sha256:f32f887675aa37c329b1a394e238caeb621a7009e7d2d167e1ce8cc57ed4ff68"
 },
 "nbformat": 3,
 "nbformat_minor": 0,
 "worksheets": [
  {
   "cells": [
    {
     "cell_type": "code",
     "collapsed": false,
     "input": [
      "import numpy as np"
     ],
     "language": "python",
     "metadata": {},
     "outputs": [],
     "prompt_number": 161
    },
    {
     "cell_type": "heading",
     "level": 1,
     "metadata": {},
     "source": [
      "Naive $N^2$ implementation with loops"
     ]
    },
    {
     "cell_type": "code",
     "collapsed": false,
     "input": [
      "def slowest_DFT(u):\n",
      "    r\"\"\"Discrete Fourier Transform naive way: N^2 flops\"\"\"\n",
      "    N = len(u)\n",
      "    u_hat = np.zeros_like(u,dtype=complex) # Make sure not to discard imag parts later\n",
      "    w = np.exp(-2*np.pi*1j/N)\n",
      "    for k in range(N):\n",
      "        for j in range(N):\n",
      "            u_hat[k] += w**(j*k) * u[j]\n",
      "    return u_hat"
     ],
     "language": "python",
     "metadata": {},
     "outputs": [],
     "prompt_number": 50
    },
    {
     "cell_type": "code",
     "collapsed": false,
     "input": [
      "N = 1024\n",
      "u = np.random.rand(N)\n",
      "u_hat = slowest_DFT(u)\n",
      "np.allclose(u_hat,np.fft.fft(u))"
     ],
     "language": "python",
     "metadata": {},
     "outputs": [
      {
       "metadata": {},
       "output_type": "pyout",
       "prompt_number": 162,
       "text": [
        "True"
       ]
      }
     ],
     "prompt_number": 162
    },
    {
     "cell_type": "code",
     "collapsed": false,
     "input": [
      "%timeit slowest_DFT(u)"
     ],
     "language": "python",
     "metadata": {},
     "outputs": [
      {
       "output_type": "stream",
       "stream": "stdout",
       "text": [
        "1 loops, best of 3: 885 ms per loop\n"
       ]
      }
     ],
     "prompt_number": 163
    },
    {
     "cell_type": "heading",
     "level": 1,
     "metadata": {},
     "source": [
      "Naive $N^2$ implementation vectorized"
     ]
    },
    {
     "cell_type": "code",
     "collapsed": false,
     "input": [
      "def slow_DFT(u):\n",
      "    N = len(u)\n",
      "    k = np.arange(N)\n",
      "    j = k.reshape((N,1))\n",
      "    F = np.exp(-2j*np.pi*j*k/N)\n",
      "    return np.dot(F,u)"
     ],
     "language": "python",
     "metadata": {},
     "outputs": [],
     "prompt_number": 167
    },
    {
     "cell_type": "code",
     "collapsed": false,
     "input": [
      "u_hat = slow_DFT(u)\n",
      "np.allclose(u_hat,np.fft.fft(u))"
     ],
     "language": "python",
     "metadata": {},
     "outputs": [
      {
       "metadata": {},
       "output_type": "pyout",
       "prompt_number": 168,
       "text": [
        "True"
       ]
      }
     ],
     "prompt_number": 168
    },
    {
     "cell_type": "code",
     "collapsed": false,
     "input": [
      "%timeit slow_DFT(u)"
     ],
     "language": "python",
     "metadata": {},
     "outputs": [
      {
       "output_type": "stream",
       "stream": "stdout",
       "text": [
        "10 loops, best of 3: 61.3 ms per loop\n"
       ]
      }
     ],
     "prompt_number": 169
    },
    {
     "cell_type": "heading",
     "level": 1,
     "metadata": {},
     "source": [
      "1 level of the FFT recursion"
     ]
    },
    {
     "cell_type": "code",
     "collapsed": false,
     "input": [
      "def less_slow_DFT(u):\n",
      "    r\"\"\"One level of the FFT recursion\"\"\"\n",
      "    N = len(u)\n",
      "    M = N/2\n",
      "    u_even = u[::2]\n",
      "    u_odd = u[1::2]\n",
      "    u_hat_even = slow_DFT(u_even)\n",
      "    u_hat_odd = slow_DFT(u_odd)\n",
      "    u_hat = np.empty_like(u,dtype=complex)\n",
      "    k = np.arange(M)\n",
      "    w = np.exp(-2j*np.pi*k/N)\n",
      "    u_hat[:M] = u_hat_even + w*u_hat_odd\n",
      "    u_hat[M:] = u_hat_even  - w*u_hat_odd\n",
      "    return u_hat"
     ],
     "language": "python",
     "metadata": {},
     "outputs": [],
     "prompt_number": 170
    },
    {
     "cell_type": "code",
     "collapsed": false,
     "input": [
      "u_hat = less_slow_DFT(u)\n",
      "np.allclose(u_hat,np.fft.fft(u))"
     ],
     "language": "python",
     "metadata": {},
     "outputs": [
      {
       "metadata": {},
       "output_type": "pyout",
       "prompt_number": 171,
       "text": [
        "True"
       ]
      }
     ],
     "prompt_number": 171
    },
    {
     "cell_type": "code",
     "collapsed": false,
     "input": [
      "%timeit less_slow_DFT(u)"
     ],
     "language": "python",
     "metadata": {},
     "outputs": [
      {
       "output_type": "stream",
       "stream": "stdout",
       "text": [
        "10 loops, best of 3: 24.8 ms per loop\n"
       ]
      }
     ],
     "prompt_number": 172
    },
    {
     "cell_type": "markdown",
     "metadata": {},
     "source": [
      "Nice!  We cut it in half!"
     ]
    },
    {
     "cell_type": "heading",
     "level": 1,
     "metadata": {},
     "source": [
      "The full FFT recursion"
     ]
    },
    {
     "cell_type": "code",
     "collapsed": false,
     "input": [
      "def fast_DFT(u,cutoff=16):\n",
      "    # Main routine\n",
      "    N = len(u)\n",
      "    if N>cutoff:\n",
      "        M = N/2\n",
      "        u_even = u[::2]\n",
      "        u_odd = u[1::2]\n",
      "        u_hat_even = fast_DFT(u_even,cutoff)\n",
      "        u_hat_odd  = fast_DFT(u_odd,cutoff)\n",
      "        k = np.arange(M)\n",
      "        w = np.exp(-2j*np.pi*k/N)\n",
      "        u_hat = np.empty_like(u,dtype=complex)\n",
      "        u_hat[:M] = u_hat_even + w*u_hat_odd\n",
      "        u_hat[M:] = u_hat_even  - w*u_hat_odd\n",
      "    else:\n",
      "        u_hat = slow_DFT(u)\n",
      "    return u_hat"
     ],
     "language": "python",
     "metadata": {},
     "outputs": [],
     "prompt_number": 131
    },
    {
     "cell_type": "code",
     "collapsed": false,
     "input": [
      "u_hat = fast_DFT(u)\n",
      "np.allclose(u_hat,np.fft.fft(u))"
     ],
     "language": "python",
     "metadata": {},
     "outputs": [
      {
       "metadata": {},
       "output_type": "pyout",
       "prompt_number": 132,
       "text": [
        "True"
       ]
      }
     ],
     "prompt_number": 132
    },
    {
     "cell_type": "code",
     "collapsed": false,
     "input": [
      "N = 16*1024\n",
      "u = np.random.rand(N)\n",
      "%timeit fast_DFT(u,cutoff=16)"
     ],
     "language": "python",
     "metadata": {},
     "outputs": [
      {
       "output_type": "stream",
       "stream": "stdout",
       "text": [
        "10 loops, best of 3: 47.8 ms per loop\n"
       ]
      }
     ],
     "prompt_number": 134
    },
    {
     "cell_type": "markdown",
     "metadata": {},
     "source": [
      "Overall speedup for $N=4096$ is more than 1000x!"
     ]
    },
    {
     "cell_type": "markdown",
     "metadata": {},
     "source": [
      "How should we choose the cutoff?"
     ]
    },
    {
     "cell_type": "code",
     "collapsed": false,
     "input": [
      "%timeit np.fft.fft(u)"
     ],
     "language": "python",
     "metadata": {},
     "outputs": [
      {
       "output_type": "stream",
       "stream": "stdout",
       "text": [
        "1000 loops, best of 3: 469 \u00b5s per loop\n"
       ]
      }
     ],
     "prompt_number": 177
    },
    {
     "cell_type": "markdown",
     "metadata": {},
     "source": [
      "The next version saves time by only calculating the $16\\times 16$ Fourier matrix once:"
     ]
    },
    {
     "cell_type": "code",
     "collapsed": false,
     "input": [
      "def fastest_DFT(u,cutoff=16,F=None):\n",
      "    if F is None:\n",
      "        # Prep for small DFTs to avoid recalculating F:\n",
      "        k = np.arange(cutoff)\n",
      "        j = k.reshape((cutoff,1))\n",
      "        F = np.exp(-2j*np.pi*j*k/cutoff)\n",
      "    N = len(u)\n",
      "    if N>cutoff:\n",
      "        M = N/2\n",
      "        u_even = u[::2]\n",
      "        u_odd = u[1::2]\n",
      "        u_hat_even = fastest_DFT(u_even,cutoff,F)\n",
      "        u_hat_odd  = fastest_DFT(u_odd,cutoff,F)\n",
      "        k = np.arange(M)\n",
      "        w = np.exp(-2j*np.pi*k/N)\n",
      "        u_hat = np.empty_like(u,dtype=complex)\n",
      "        u_hat[:M] = u_hat_even + w*u_hat_odd\n",
      "        u_hat[M:] = u_hat_even  - w*u_hat_odd\n",
      "    else:\n",
      "        u_hat = np.dot(F,u)\n",
      "    return u_hat"
     ],
     "language": "python",
     "metadata": {},
     "outputs": [],
     "prompt_number": 139
    },
    {
     "cell_type": "code",
     "collapsed": false,
     "input": [
      "u_hat = fastest_DFT(u)\n",
      "np.allclose(u_hat,np.fft.fft(u))"
     ],
     "language": "python",
     "metadata": {},
     "outputs": [
      {
       "metadata": {},
       "output_type": "pyout",
       "prompt_number": 141,
       "text": [
        "True"
       ]
      }
     ],
     "prompt_number": 141
    },
    {
     "cell_type": "code",
     "collapsed": false,
     "input": [
      "N = 16*1024\n",
      "u = np.random.rand(N)\n",
      "%timeit fastest_DFT(u,cutoff=16)"
     ],
     "language": "python",
     "metadata": {},
     "outputs": [
      {
       "output_type": "stream",
       "stream": "stdout",
       "text": [
        "10 loops, best of 3: 20.6 ms per loop\n"
       ]
      }
     ],
     "prompt_number": 142
    },
    {
     "cell_type": "markdown",
     "metadata": {},
     "source": [
      "The biggest issues left now are recursion, which is fairly slow in Python, and the creation of so many arrays.  The answer is to use iteration instead, and pack the results into appropriate parts of a single pre-allocated array."
     ]
    },
    {
     "cell_type": "code",
     "collapsed": false,
     "input": [
      "def FFT_vectorized(u, cutoff=16):\n",
      "    # Prep for small DFTs to avoid recalculating F:\n",
      "    k = np.arange(cutoff)\n",
      "    j = k.reshape((cutoff,1))\n",
      "    F = np.exp(-2j*np.pi*j*k/cutoff)\n",
      "    \n",
      "    # Do the slow direct DFT on all the cutoff-size blocks simultaneously:\n",
      "    u_hat = np.dot(F, u.reshape((cutoff,-1)))\n",
      "    \n",
      "    # Now u_hat has many columns, each of length cutoff\n",
      "    # We need to combine them into a single column in the right way\n",
      "    while u_hat.shape[0] < N:\n",
      "        M = u_hat.shape[0]\n",
      "        P = u_hat.shape[1] # M x P = N\n",
      "        k = np.arange(M)\n",
      "        w = np.exp(-1j*np.pi*k/M)[:, None] # 2's cancel\n",
      "        u_hat_even = u_hat[:, :P/2] # Last half of the columns\n",
      "        u_hat_odd  = u_hat[:, P/2:] # First half of the columns\n",
      "        u_hat = np.vstack([u_hat_even + w * u_hat_odd,\n",
      "                           u_hat_even - w * u_hat_odd])\n",
      "    return u_hat.ravel()"
     ],
     "language": "python",
     "metadata": {},
     "outputs": [],
     "prompt_number": 174
    },
    {
     "cell_type": "code",
     "collapsed": false,
     "input": [
      "u_hat = FFT_vectorized(u)\n",
      "np.allclose(u_hat,np.fft.fft(u))"
     ],
     "language": "python",
     "metadata": {},
     "outputs": [
      {
       "metadata": {},
       "output_type": "pyout",
       "prompt_number": 175,
       "text": [
        "True"
       ]
      }
     ],
     "prompt_number": 175
    },
    {
     "cell_type": "code",
     "collapsed": false,
     "input": [
      "N = 16*1024\n",
      "u = np.random.rand(N)\n",
      "%timeit FFT_vectorized(u,cutoff=32)"
     ],
     "language": "python",
     "metadata": {},
     "outputs": [
      {
       "output_type": "stream",
       "stream": "stdout",
       "text": [
        "100 loops, best of 3: 2.87 ms per loop\n"
       ]
      }
     ],
     "prompt_number": 176
    },
    {
     "cell_type": "code",
     "collapsed": false,
     "input": [
      "np.ravel?"
     ],
     "language": "python",
     "metadata": {},
     "outputs": [],
     "prompt_number": 173
    },
    {
     "cell_type": "code",
     "collapsed": false,
     "input": [],
     "language": "python",
     "metadata": {},
     "outputs": []
    }
   ],
   "metadata": {}
  }
 ]
}