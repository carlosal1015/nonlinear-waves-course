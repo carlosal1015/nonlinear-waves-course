{
 "cells": [
  {
   "cell_type": "markdown",
   "metadata": {},
   "source": [
    "$$\n",
    "\\newcommand{\\Real}{\\mathbb R}\n",
    "\\newcommand{\\Complex}{\\mathbb C}\n",
    "\\newcommand{\\F}{\\mathcal F}\n",
    "$$\n",
    "\n",
    "# Pseudospectral solution of the incompressible Navier-Stokes equations\n",
    "\n",
    "In this notebook, we'll solve the equations describing flow of an incompressible, viscous fluid in 2D using a pseudospectral discretization."
   ]
  },
  {
   "cell_type": "markdown",
   "metadata": {},
   "source": [
    "## The equations\n",
    "\n",
    "We will present the equations for an arbitrary number of dimensions $d \\in \\{1,2,3\\}$.\n",
    "\n",
    "### Conservation laws\n",
    "We start with the familiar continuity equation for mass conservation:\n",
    "\n",
    "$$\\rho_t + \\nabla \\cdot (\\rho u) = 0.$$\n",
    "\n",
    "Here $\\rho$ is mass density and $u(x,t) \\in \\Real^d$ is fluid velocity.  This equation states that the change in mass in a region is due to flow of mass (whose rate is $\\rho u$) into or out of that region.\n",
    "\n",
    "Similarly, we have the following equation for the flow of momentum:\n",
    "\n",
    "$$(\\rho u)_t + \\nabla \\cdot \\left( \\rho u \\otimes u \\right) + \\nabla p = \\nu \\nabla^2 u.$$\n",
    "\n",
    "Here $p$ is the fluid pressure, $\\nu$ is the coefficient of viscosity, and $\\otimes$ denotes the outer product.  The term $\\nabla \\cdot \\left( \\rho u \\otimes u \\right)$ is similar to the term $\\nabla \\cdot (\\rho u)$ in the continuity equation -- it accounts for transport of momentum due to motion of the fluid.  Meanwhile the term $\\nabla P$ accounts for momentum exchange due to pressure differences, and the right-hand-side term accounts for viscosity.\n",
    "\n",
    "### Incompressibility\n",
    "\n",
    "Let us now suppose that the fluid is incompressible.  This means that the fluid density does not change in time.  We will go one step further and assume that the density is initially uniform in space, so that it remains constant always.  For simplicity we choose units so that $\\rho=1$.  Then the continuity equation simplifies; since $\\rho_t = 0$ and\n",
    "\n",
    "$$\\nabla \\cdot (\\rho u) = u \\cdot \\nabla \\rho + \\rho (\\nabla \\cdot u) = \\nabla \\cdot u$$\n",
    "\n",
    "the continuity equation is now simply\n",
    "\n",
    "$$\\nabla \\cdot u = 0.$$\n",
    "\n",
    "The momentum equation also simplifies; we immediately obtain\n",
    "\n",
    "$$u_t + u \\cdot \\nabla u + \\nabla p = \\nu \\nabla^2 u.$$\n",
    "\n",
    "Next we use the identity \n",
    "\n",
    "$$u \\cdot \\nabla u = \\frac{1}{2} \\nabla (u \\cdot u) - u \\times (\\nabla \\times u).$$\n",
    "\n",
    "Defining the *modified pressure* $P = p + \\frac{1}{2}u\\cdot u$ and the *vorticity* $\\omega = \\nabla \\times u$, we obtain the \"rotational form\" of the momentum equation:\n",
    "\n",
    "$$u_t - u\\times \\omega = \\nu \\nabla^2 u - \\nabla P.$$"
   ]
  },
  {
   "cell_type": "markdown",
   "metadata": {},
   "source": [
    "# Pseudospectral discretization\n",
    "\n",
    "We are thus left with the $d$ evolution equations\n",
    "\n",
    "$$u_t - u\\times \\omega = \\nu \\nabla^2 u - \\nabla P,$$\n",
    "\n",
    "and the constraint\n",
    "\n",
    "$$\\nabla \\cdot u = 0.$$\n",
    "\n",
    "Taking the Fourier transform of these we obtain an ODE and an algebraic constraint for each wavenumber vector $\\xi \\in \\Complex^d$:\n",
    "\n",
    "\\begin{align}\n",
    "    \\hat{u}'_\\xi(t) & = (\\widehat{u\\times \\omega})_\\xi -\\nu |\\xi|^2 \\hat{u}_\\xi - i \\xi \\hat{P}_\\xi \\\\\n",
    "    i \\xi \\cdot \\hat{u}_\\xi & = 0.\n",
    "\\end{align}\n",
    "\n",
    "We can take the dot product of the first equation with $i \\xi$ and use the second equation to obtain\n",
    "$$ \\hat{P}_\\xi = - i \\frac{\\xi \\cdot(\\widehat{u\\times \\omega})_\\xi}{|\\xi|^2}.$$\n",
    "\n",
    "Substituting this back into the ODEs gives\n",
    "\n",
    "$$ \\hat{u}'_\\xi(t) = (\\widehat{u\\times \\omega})_\\xi -\\nu |\\xi|^2 \\hat{u}_\\xi - \\xi \\frac{\\xi \\cdot(\\widehat{u\\times \\omega})_\\xi}{|\\xi|^2}.$$\n",
    "\n",
    "The (linear) viscous term can be handled spectrally, but for the other two terms we will need the pseudospectral approach: compute $\\omega$ in Fourier space, transform $u, \\omega$ to physical space, take the cross product, and transform the result back to Fourier space.\n",
    "\n",
    "## Multi-dimensional Fourier transforms\n",
    "\n",
    "In 2D, the discrete Fourier transform looks like\n",
    "$$\\F_\\xi(u) = \\F_{\\xi_x} ( \\F_{\\xi_y} (u)) = \\sum_{j=0}^{N-1} e^{-2\\pi i j \\xi_x/N} \\sum_{k=0}^{N-1} e^{-2\\pi i k \\xi_y/N} u_\\xi$$\n",
    "\n",
    "where $\\xi_x, \\xi_y$ each range from $-N/2 + 1$ to $N/2$."
   ]
  },
  {
   "cell_type": "markdown",
   "metadata": {},
   "source": [
    "# Implementation\n",
    "\n",
    "The code below is adapted from Mikael Mortensen's [SpectralDNS code](https://github.com/mikaem/spectralDNS).  It has been simplified in several ways."
   ]
  },
  {
   "cell_type": "code",
   "execution_count": null,
   "metadata": {
    "collapsed": false
   },
   "outputs": [],
   "source": [
    "%matplotlib inline\n",
    "import numpy as np\n",
    "import matplotlib.pyplot as plt\n",
    "from numpy import exp, pi, cos, sin, cosh\n",
    "from numpy import fft\n",
    "import matplotlib\n",
    "from matplotlib import animation\n",
    "from JSAnimation import IPython_display # if you don't have this, get it from: https://github.com/jakevdp/JSAnimation"
   ]
  },
  {
   "cell_type": "code",
   "execution_count": null,
   "metadata": {
    "collapsed": true
   },
   "outputs": [],
   "source": [
    "def wavenumbers(N):\n",
    "    Nf = N/2+1\n",
    "    # Set wavenumbers in grid\n",
    "    kx = fft.fftfreq(N, 1./N)\n",
    "    ky = kx[:Nf].copy(); ky[-1] *= -1\n",
    "    K = np.array(np.meshgrid(kx, ky[:Nf], indexing='ij'), dtype=int)\n",
    "    K2 = np.sum(K*K, 0)\n",
    "    K_over_K2 = np.array(K, dtype=float) / np.where(K2==0, 1, K2)\n",
    "\n",
    "    return K, K2, K_over_K2"
   ]
  },
  {
   "cell_type": "code",
   "execution_count": null,
   "metadata": {
    "collapsed": true
   },
   "outputs": [],
   "source": [
    "def initial_data(problem,N,L):\n",
    "    X = np.mgrid[:N, :N].astype(float)*L/N\n",
    "\n",
    "    K, K2, K_over_K2 = wavenumbers(N)\n",
    "    Nf = N/2+1\n",
    "    U     = np.empty((2, N, N))\n",
    "    U_hat = np.empty((2, N, Nf), dtype=\"complex\")\n",
    "    if problem == 'Taylor-Green':\n",
    "        U[0] = sin(X[0])*cos(X[1])\n",
    "        U[1] =-cos(X[0])*sin(X[1])\n",
    "    elif problem == 'vortices':\n",
    "        w =     exp(-((X[0]-pi)**2+(X[1]-pi+pi/4)**2)/(0.2)) \\\n",
    "           +    exp(-((X[0]-pi)**2+(X[1]-pi-pi/4)**2)/(0.2)) \\\n",
    "           -0.5*exp(-((X[0]-pi-pi/4)**2+(X[1]-pi-pi/4)**2)/(0.4))\n",
    "        w_hat = U_hat[0].copy()\n",
    "        w_hat = fft.rfft2(w)\n",
    "        U[0] = fft.irfft2( 1j*K_over_K2[1]*w_hat)\n",
    "        U[1] = fft.irfft2(-1j*K_over_K2[0]*w_hat)\n",
    "    elif problem =='double-shear':\n",
    "        delta = 1./20\n",
    "        sigma = 15/pi\n",
    "        x, y = X[0], X[1]\n",
    "        w = (delta * cos(x) - sigma/(cosh(sigma*(y-pi/2)))**2) * (y<=pi)\n",
    "        w +=(delta * cos(x) + sigma/(cosh(sigma*(3*pi/2-y)))**2) * (y>pi)\n",
    "        w_hat = U_hat[0].copy()\n",
    "        w_hat = fft.rfft2(w)\n",
    "        U[0] = fft.irfft2( 1j*K_over_K2[1]*w_hat)\n",
    "        U[1] = fft.irfft2(-1j*K_over_K2[0]*w_hat)\n",
    "        \n",
    "    # Fourier transform initial data\n",
    "    U_hat[0] = fft.rfft2(U[0])\n",
    "    U_hat[1] = fft.rfft2(U[1])\n",
    "\n",
    "    # Make it divergence free in case it is not\n",
    "    U_hat[:] -= np.sum(K*U_hat, 0)*K_over_K2    \n",
    "\n",
    "    return U, U_hat"
   ]
  },
  {
   "cell_type": "code",
   "execution_count": null,
   "metadata": {
    "collapsed": true
   },
   "outputs": [],
   "source": [
    "def solve(M=6, temporal='RK4', plot_result=10, nu=1.e-3, dt=5.e-2, \n",
    "          T=10., problem='vortices', debug=False, errtol=1.e-5,\n",
    "          make_plots=True):\n",
    "    # Set the size of the doubly periodic box N**2\n",
    "    N = 2**M\n",
    "    L = 2 * pi\n",
    "    X = np.mgrid[:N, :N].astype(float)*L/N\n",
    "\n",
    "    # Solution array and Fourier coefficients\n",
    "    # Because of real transforms and symmetries, N/2+1 coefficients are sufficient\n",
    "    Nf = N/2+1\n",
    "\n",
    "    P_hat = np.empty((N, Nf), dtype=\"complex\")\n",
    "    curl   = np.empty((N, N))\n",
    "\n",
    "    U_hat0 = np.empty((2, N, Nf), dtype=\"complex\")\n",
    "    dU     = np.empty((2, N, Nf), dtype=\"complex\")\n",
    "\n",
    "    U_hat1 = np.empty((2, N, Nf), dtype=\"complex\")\n",
    "    b = np.array([1./6., 1./3., 1./3., 1./6.])\n",
    "    c = np.array([0.5, 0.5, 1.])\n",
    "\n",
    "    def ComputeRHS(U_hat, dU):\n",
    "        U[0] = fft.irfft2(U_hat[0])\n",
    "        U[1] = fft.irfft2(U_hat[1])\n",
    "\n",
    "        curl[:] = fft.irfft2(1j*(K[0]*U_hat[1] - K[1]*U_hat[0]))\n",
    "        dU[0] = fft.rfft2(U[1]*curl)\n",
    "        dU[1] = fft.rfft2(-U[0]*curl)\n",
    "\n",
    "        # Compute pressure (To get actual pressure multiply by 1j/dt)\n",
    "        P_hat[:] = np.sum(dU*K_over_K2, 0, out=P_hat)\n",
    "\n",
    "        # Add pressure gradient\n",
    "        dU[:] -= P_hat*K\n",
    "\n",
    "        # Add contribution from diffusion\n",
    "        dU[:] -= nu*K2*U_hat\n",
    "\n",
    "    K, K2, K_over_K2 = wavenumbers(N)\n",
    "\n",
    "    U, U_hat = initial_data(problem, N, L)\n",
    "    curl = fft.irfft2(1j*K[0]*U_hat[1]-1j*K[1]*U_hat[0])\n",
    "\n",
    "    t = 0.0\n",
    "    tstep = 0\n",
    "\n",
    "    C = [curl]\n",
    "    tt = [t]\n",
    "    \n",
    "    while t < T:\n",
    "        t += dt; tstep += 1\n",
    "\n",
    "        U_hat1[:] = U_hat0[:] = U_hat\n",
    "        for j in range(4):\n",
    "            ComputeRHS(U_hat, dU)\n",
    "            if j < 3:\n",
    "                #U_hat[:] = U_hat0 + b[rk]*dU\n",
    "                U_hat[:] = U_hat0; U_hat += c[j]*dt*dU # Faster (no tmp array)\n",
    "            U_hat1[:] += b[j]*dt*dU\n",
    "        U_hat[:] = U_hat1[:]\n",
    "\n",
    "\n",
    "        if tstep % plot_result == 0 and make_plots:\n",
    "            curl = fft.irfft2(1j*K[0]*U_hat[1]-1j*K[1]*U_hat[0])\n",
    "            C.append(curl)\n",
    "            tt.append(t)\n",
    "\n",
    "    return tt, C"
   ]
  },
  {
   "cell_type": "code",
   "execution_count": null,
   "metadata": {
    "collapsed": false
   },
   "outputs": [],
   "source": [
    "tt, C = solve(problem='double-shear', M=7, dt=0.01)"
   ]
  },
  {
   "cell_type": "code",
   "execution_count": null,
   "metadata": {
    "collapsed": false
   },
   "outputs": [],
   "source": [
    "fig = plt.figure()\n",
    "axes = fig.add_subplot(111)\n",
    "\n",
    "im = axes.imshow(np.flipud(C[0].T))\n",
    "plt.colorbar(im)\n",
    "\n",
    "def plot_frame(i):\n",
    "    im.set_data(np.flipud(C[i].T))\n",
    "    axes.set_title('t= %.2f' % tt[i])\n",
    "    \n",
    "matplotlib.animation.FuncAnimation(fig, plot_frame, frames=len(C), interval=20)"
   ]
  },
  {
   "cell_type": "code",
   "execution_count": null,
   "metadata": {
    "collapsed": true
   },
   "outputs": [],
   "source": []
  }
 ],
 "metadata": {
  "kernelspec": {
   "display_name": "Python 2",
   "language": "python",
   "name": "python2"
  },
  "language_info": {
   "codemirror_mode": {
    "name": "ipython",
    "version": 2
   },
   "file_extension": ".py",
   "mimetype": "text/x-python",
   "name": "python",
   "nbconvert_exporter": "python",
   "pygments_lexer": "ipython2",
   "version": "2.7.9"
  }
 },
 "nbformat": 4,
 "nbformat_minor": 0
}
