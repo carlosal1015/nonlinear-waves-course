{
 "metadata": {
  "name": "",
  "signature": "sha256:f70f06f4d974a776ea1b60133ca5a43ecbb5213a36f891061c8e875b4e91ab59"
 },
 "nbformat": 3,
 "nbformat_minor": 0,
 "worksheets": [
  {
   "cells": [
    {
     "cell_type": "heading",
     "level": 1,
     "metadata": {},
     "source": [
      "Spectral and pseudo-spectral methods"
     ]
    },
    {
     "cell_type": "markdown",
     "metadata": {},
     "source": [
      "Note: Some of the code used here is adapted from MATLAB codes in Trefethen's *Spectral Methods in Matlab*."
     ]
    },
    {
     "cell_type": "code",
     "collapsed": false,
     "input": [
      "%matplotlib inline\n",
      "import numpy as np\n",
      "import matplotlib.pyplot as plt\n",
      "import matplotlib\n",
      "from matplotlib import animation\n",
      "from JSAnimation import IPython_display # if you don't have this, get it from: https://github.com/jakevdp/JSAnimation"
     ],
     "language": "python",
     "metadata": {},
     "outputs": []
    },
    {
     "cell_type": "heading",
     "level": 1,
     "metadata": {},
     "source": [
      "Advection-diffusion (again)"
     ]
    },
    {
     "cell_type": "markdown",
     "metadata": {},
     "source": [
      "$$\n",
      "\\newcommand{\\F}{\\mathcal F}\n",
      "\\newcommand{\\Finv}{{\\mathcal F}^{-1}}\n",
      "$$\n",
      "\n",
      "In notebook 1 we solved the scalar, linear 1D evolution equation:\n",
      "\n",
      "$$u_t + u_x = \\epsilon u_{xx}$$\n",
      "\n",
      "by taking the Fourier transform, which \"diagonalizes\" this infinite-dimensional dynamical system:\n",
      "\n",
      "$$\\hat{u}_t + i\\xi\\hat{u} = -\\xi^2 \\epsilon \\hat{u}$$\n",
      "\n",
      "with solution:\n",
      "\n",
      "$$\\hat{u}'(t) = e^{(-i \\xi - \\epsilon \\xi^2)t} \\hat{u}(0)$$\n",
      "\n",
      "for each mode.\n",
      "\n",
      "To construct the full solution, we simply take the inverse Fourier transform.  All together, this algorithm looks like:\n",
      "\n",
      "$$\n",
      "u(t) = \\Finv \\left(D\\left[e^{(-i \\xi - \\epsilon \\xi^2)t}\\right]\\F(u) \\right),\n",
      "$$\n",
      "\n",
      "where we have written $D[f(\\xi)]$ to denote the diagonal matrix whose $(j,j)$ entry is given by $f(\\xi_j)$.\n",
      "In the exact solution, the wavenumbers $\\xi$ range from $-\\infty$ to $+\\infty$ (and $D$ is infinite), but in practice we compute on a finite interval of length $L$ with $m$ collocation points.\n",
      "The wavenumbers are then given by the formula\n",
      "\n",
      "\\begin{align}\n",
      "\\xi_j & = \\frac{2 \\pi j}{L} & \\text{for } -m/2 \\le j < m/2,\n",
      "\\end{align}\n",
      "\n",
      "although the FFT routine orders them differently."
     ]
    },
    {
     "cell_type": "markdown",
     "metadata": {},
     "source": [
      "We can make the algorithm even more explicit by recognizing that the FFT (and its inverse) are just fast ways of multiplying by a certain matrix (and its inverse).  Thus\n",
      "\n",
      "$$\\F(u) = Fu$$\n",
      "\n",
      "where $F$ is a certain matrix.  This matrix has a number of interesting properties (see e.g. Trefethen, Ch. 3), but for the moment we are only interested in the fact that it is a linear operator.  We can reverse engineer it by applying $\\F$ to the columns of the identity matrix:"
     ]
    },
    {
     "cell_type": "code",
     "collapsed": false,
     "input": [
      "def F_matrix(m):\n",
      "    F = np.zeros((m,m),dtype=complex)\n",
      "    for j in range(m):\n",
      "        v = np.zeros(m)\n",
      "        v[j] = 1.\n",
      "        F[:,j] = np.fft.fft(v)\n",
      "    return F\n",
      "\n",
      "print F_matrix(4)"
     ],
     "language": "python",
     "metadata": {},
     "outputs": []
    },
    {
     "cell_type": "markdown",
     "metadata": {},
     "source": [
      "Thus we can write our \"algorithm\" simply as\n",
      "\n",
      "$$\n",
      "u(t) = F^{-1} D\\left[e^{(-i \\xi - \\epsilon \\xi^2)(t-t_0)}\\right] F u(t_0).\n",
      "$$\n",
      "\n",
      "Now it is completely clear that we are simply applying a similarity transformation that diagonalizes the dynamics of our system.\n",
      "We can solve any linear, scalar constant-coefficient 1D evolution equation in similar manner, by simply replacing the argument of $D$.  Note that this algorithm is:\n",
      "\n",
      "- Exact in time (the only error is due to our initial truncation of the Fourier series by sampling the data at a finite set of points); and\n",
      "- Unconditionally stable.\n",
      "\n",
      "Here is the implementation as a reminder."
     ]
    },
    {
     "cell_type": "code",
     "collapsed": false,
     "input": [
      "epsilon = 0.1\n",
      "tmax = 2.0\n",
      "\n",
      "# Grid\n",
      "m = 64  # # of points in space\n",
      "N = 10  # # of times to show output\n",
      "x = np.arange(-m/2,m/2)*(2*np.pi/m)\n",
      "dx = x[1]-x[0]\n",
      "L = x[-1]-x[0] + dx\n",
      "dt = tmax/N\n",
      "\n",
      "# Initial data\n",
      "u = np.sin(x)**2 * (x<0.)\n",
      "\n",
      "uhat0 = np.fft.fft(u)\n",
      "\n",
      "# This is the order in which numpy's FFT gives the frequencies:\n",
      "xi=np.fft.fftfreq(m)*m*2*np.pi/L\n",
      "\n",
      "# Set up plotting\n",
      "fig = plt.figure()\n",
      "axes = fig.add_subplot(111)\n",
      "line, = axes.plot(x,u,lw=3)\n",
      "axes.set_xlim((x[0],x[-1]))\n",
      "axes.set_ylim((0.,1.))\n",
      "\n",
      "# Store solutions for plotting\n",
      "frames = [u.copy()]\n",
      "\n",
      "for n in range(1,N+1):\n",
      "    t = n*dt\n",
      "    uhat = np.exp(-(1.j*xi+epsilon*xi**2)*t)*uhat0\n",
      "    u = np.real(np.fft.ifft(uhat))\n",
      "    frames.append(u.copy())\n",
      "\n",
      "\n",
      "def plot_frame(i):\n",
      "    line.set_data(x,frames[i])\n",
      "    axes.set_title('t='+str(i*dt))\n",
      "\n",
      "matplotlib.animation.FuncAnimation(fig, plot_frame, frames=len(frames), interval=20)"
     ],
     "language": "python",
     "metadata": {},
     "outputs": []
    },
    {
     "cell_type": "heading",
     "level": 1,
     "metadata": {},
     "source": [
      "Variable coefficients"
     ]
    },
    {
     "cell_type": "markdown",
     "metadata": {},
     "source": [
      "Things become more interesting as soon as we introduce spatially-varying coefficients or nonlinearity.  In either case, the Fourier transform no longer provides a global diagonalization -- instead, it can be thought of as diagonalizing the system at one instant in time.  That means that we will have to discretize in time, and the time step we can use will be restricted by accuracy and (possibly) stability considerations."
     ]
    },
    {
     "cell_type": "markdown",
     "metadata": {},
     "source": [
      "Let's start with variable-coefficient advection:\n",
      "\n",
      "$$ u_t + a(x) u_x = 0.$$\n",
      "\n",
      "Notice that if we took the Fourier transform of this equation, we would need to compute a convolution of $a(x)$ with $u$, which is computationally quite expensive relative to the rest of what we will do.  To avoid this, we use the \"pseudospectral\" approach: we compute the derivative $u_x$ in the spectral way and then multiply (in physical space) by $a(x)$.  We have\n",
      "\n",
      "$$ u_x = \\Finv \\left(D\\left[i\\xi\\right] F(u)\\right).$$\n",
      "\n",
      "The code below computes the spatial derivative."
     ]
    },
    {
     "cell_type": "code",
     "collapsed": false,
     "input": [
      "# Grid\n",
      "m = 128\n",
      "x = np.arange(-m/2,m/2)*(2*np.pi/m)\n",
      "dx = x[1]-x[0]\n",
      "L = x[-1]-x[0] + dx\n",
      "\n",
      "# Initial data\n",
      "u = np.exp(-1*(x)**2)\n",
      "uhat = np.fft.fft(u)\n",
      "\n",
      "# This is the order in which numpy's FFT gives the frequencies:\n",
      "xi=np.fft.fftfreq(m)*m*2*np.pi/L\n",
      "\n",
      "ux = np.real(np.fft.ifft(1j*xi*uhat))\n",
      "plt.plot(x,u)\n",
      "plt.hold(True)\n",
      "plt.plot(x,ux)\n",
      "plt.xlim(-np.pi,np.pi);\n",
      "plt.legend(['u','du/dx'])"
     ],
     "language": "python",
     "metadata": {},
     "outputs": []
    },
    {
     "cell_type": "markdown",
     "metadata": {},
     "source": [
      "So we have a semi-discrete system:\n",
      "\n",
      "$$\n",
      "U'(t) = -a(x) \\Finv \\left(D\\left[i\\xi\\right] \\F(U)\\right).\n",
      "$$\n",
      "\n",
      "Next we need to integrate in time.  To choose an appropriate time integrator, we would like to know the spectrum of our semi-discretization.  We can compute it explicitly."
     ]
    },
    {
     "cell_type": "code",
     "collapsed": false,
     "input": [
      "F = F_matrix(m)\n",
      "Finv = np.linalg.inv(F)\n",
      "xi=np.fft.fftfreq(m)*m*2*np.pi/L\n",
      "D = np.diag(1j*xi)\n",
      "rhs_matrix = np.dot(Finv,np.dot(D,F))"
     ],
     "language": "python",
     "metadata": {},
     "outputs": []
    },
    {
     "cell_type": "code",
     "collapsed": false,
     "input": [
      "lamda = np.linalg.eigvals(rhs_matrix)\n",
      "plt.plot(np.real(lamda),np.imag(lamda),'ok')\n",
      "plt.xlim(-1,1);"
     ],
     "language": "python",
     "metadata": {},
     "outputs": []
    },
    {
     "cell_type": "markdown",
     "metadata": {},
     "source": [
      "What are these eigenvalues?  In fact, they are just the entries of $D[i\\xi]$:"
     ]
    },
    {
     "cell_type": "code",
     "collapsed": false,
     "input": [
      "plt.plot(0*xi,xi,'ok')"
     ],
     "language": "python",
     "metadata": {},
     "outputs": []
    },
    {
     "cell_type": "markdown",
     "metadata": {},
     "source": [
      "Indeed, we should have known this already since we are performing a similarity transformation on $D$.\n",
      "\n",
      "Given these eigenvalues, the Leapfrog method seems an appropriate choice for time integration. (why?)\n",
      "Thus our full discretization takes the form\n",
      "\n",
      "$$\n",
      "U^{n+1} = U^{n-1} -2\\Delta t a(x) \\Finv \\left(D\\left[i\\xi\\right] \\F(U)\\right).\n",
      "$$"
     ]
    },
    {
     "cell_type": "markdown",
     "metadata": {},
     "source": [
      "**What should be the time step restriction for stability for this discretization?**\n",
      "\n",
      "Check your answer by varying the time step below.  Can you explain what you see?"
     ]
    },
    {
     "cell_type": "code",
     "collapsed": false,
     "input": [
      "# Grid\n",
      "m = 128\n",
      "x = np.arange(-m/2,m/2)*(2*np.pi/m)\n",
      "dx = x[1]-x[0]\n",
      "L = x[-1]-x[0] + dx\n",
      "a = 0.2 + (np.cos(x))**2\n",
      "\n",
      "k = 0.013\n",
      "tmax = 20.\n",
      "\n",
      "# Initial data\n",
      "u = np.exp(-20*(x+2)**2)\n",
      "#u_old = np.exp(-10*(x+2+0.2*k)**2)\n",
      "\n",
      "# This is the order in which numpy's FFT gives the frequencies:\n",
      "xi=np.fft.fftfreq(m)*m*2*np.pi/L\n",
      "\n",
      "\n",
      "num_plots = 50\n",
      "nplt = np.floor((tmax/num_plots)/k)\n",
      "nmax = int(round(tmax/k))\n",
      "\n",
      "fig = plt.figure()\n",
      "axes = fig.add_subplot(111)\n",
      "line, = axes.plot(x,u,lw=3)\n",
      "\n",
      "frames = [u.copy()]\n",
      "tt = [0]\n",
      "\n",
      "# Take one Runge-Kutta step (3rd-order RK method)\n",
      "y2 = u - k*a*np.real(np.fft.ifft(1j*xi*np.fft.fft(u)))\n",
      "y3 = 0.75*u + 0.25*(y2 - k*a*np.real(np.fft.ifft(1j*xi*np.fft.fft(y2))))\n",
      "u_new = 1./3 * u + 2./3 * (y3 - k*a*np.real(np.fft.ifft(1j*xi*np.fft.fft(y3))))\n",
      "\n",
      "u_old = u.copy()\n",
      "u = u_new.copy()\n",
      "\n",
      "for n in range(1,nmax+1):\n",
      "    u_x = np.real(np.fft.ifft(1j*xi*np.fft.fft(u)))\n",
      "    u_new = u_old - 2* k * a * u_x\n",
      "    \n",
      "    u_old = u.copy()\n",
      "    u = u_new.copy()\n",
      "    t = n*k\n",
      "    # Plotting\n",
      "    if np.mod(n,nplt) == 0:\n",
      "        frames.append(u.copy())\n",
      "        tt.append(t)\n",
      "        \n",
      "def plot_frame(i):\n",
      "    line.set_data(x,frames[i])\n",
      "    axes.set_title('t= %.2f' % tt[i])\n",
      "    axes.set_xlim((-np.pi,np.pi))\n",
      "    axes.set_ylim((-0.1,1.))\n",
      "    \n",
      "matplotlib.animation.FuncAnimation(fig, plot_frame, frames=len(frames), interval=20)"
     ],
     "language": "python",
     "metadata": {},
     "outputs": []
    },
    {
     "cell_type": "heading",
     "level": 1,
     "metadata": {},
     "source": [
      "Burgers' equation"
     ]
    },
    {
     "cell_type": "markdown",
     "metadata": {},
     "source": [
      "Last time, we used an integrating factor.  This time, let's just try the obvious generalization of our variable-coefficient advection discretization.  Writing the equation in the form\n",
      "\n",
      "$$u_t = - uu_x + \\epsilon u_{xx}$$\n",
      "\n",
      "leads to the pseudospectral semi-discretization\n",
      "\n",
      "\\begin{align}\n",
      "    U'(t) & = - U \\Finv \\left(D\\left[i\\xi\\right] \\F(U)\\right) + \\epsilon \\Finv \\left(D\\left[-\\xi^2\\right] \\F(U)\\right) \\\\\n",
      "          & = \\left(-U\\Finv D\\left[i\\xi\\right] + \\epsilon \\Finv D\\left[-\\xi^2\\right] \\right) \\F U.\n",
      "\\end{align}\n",
      "The second line is obtained due to linearity of the Fourier transform, and is preferable for implementation since it involves only two rather than three) FFTs per step."
     ]
    },
    {
     "cell_type": "markdown",
     "metadata": {},
     "source": [
      "We need to choose a time integrator for this problem.  The eigenvalues of the RHS will depend on U and $\\epsilon$, but we can get an idea by choosing some particular U and $\\epsilon$:"
     ]
    },
    {
     "cell_type": "code",
     "collapsed": false,
     "input": [
      "m = 128\n",
      "x = np.arange(-m/2,m/2)*(2*np.pi/m)\n",
      "u = 0.2 + (np.cos(x))**2#np.exp(-20*(x+2)**2)\n",
      "epsilon = 0.1\n",
      "#u = u/u\n",
      "\n",
      "F = F_matrix(m)\n",
      "Finv = np.linalg.inv(F)\n",
      "xi=np.fft.fftfreq(m)*m*2*np.pi/L\n",
      "D1 = np.diag(1j*xi)\n",
      "D2 = np.dot(D1,D1)\n",
      "rhs_matrix = np.dot(-np.diag(u),np.dot(Finv,np.dot(D1,F))) + epsilon*np.dot(Finv,np.dot(D2,F))\n",
      "\n",
      "lamda = np.linalg.eigvals(rhs_matrix)\n",
      "plt.plot(np.real(lamda),np.imag(lamda),'or')"
     ],
     "language": "python",
     "metadata": {},
     "outputs": []
    },
    {
     "cell_type": "code",
     "collapsed": false,
     "input": [
      "plt.plot(np.real(lamda),np.imag(lamda),'or')\n",
      "plt.axis('equal')"
     ],
     "language": "python",
     "metadata": {},
     "outputs": []
    },
    {
     "cell_type": "markdown",
     "metadata": {},
     "source": [
      "Two things are immediately clear:\n",
      "\n",
      "1. We should not use the midpoint method, since the eigenvalues of this semi-discretization have large real part.\n",
      "2. More importantly, if we use any explicit method then we will need to take very small time steps, due to the large negative real components.\n",
      "\n",
      "Try changing $m$ and notice how the real and imaginary parts of the spectrum scale.  This can also be deduced from looking at the semi-discretization, or noticing that the spectrum is approximately a parabola."
     ]
    },
    {
     "cell_type": "code",
     "collapsed": false,
     "input": [
      "epsilon = 0.01\n",
      "\n",
      "# Grid\n",
      "m = 64\n",
      "x = np.arange(-m/2,m/2)*(2*np.pi/m)\n",
      "dx = x[1]-x[0]\n",
      "L = x[-1]-x[0] + dx\n",
      "\n",
      "dt = epsilon/(10*m**2)\n",
      "tmax = 2.1\n",
      "\n",
      "# Initial data\n",
      "u = np.exp(-20*(x+2)**2)\n",
      "\n",
      "# This is the order in which numpy's FFT gives the frequencies:\n",
      "xi=np.fft.fftfreq(m)*m*2*np.pi/L\n",
      "\n",
      "num_plots = 50\n",
      "nplt = np.floor((tmax/num_plots)/dt)\n",
      "nmax = int(round(tmax/dt))\n",
      "\n",
      "fig = plt.figure()\n",
      "axes = fig.add_subplot(111)\n",
      "line, = axes.plot(x,u,lw=3)\n",
      "\n",
      "frames = [u.copy()]\n",
      "tt = [0]\n",
      "\n",
      "for n in range(1,nmax+1):\n",
      "    uhat = np.fft.fft(u)\n",
      "    y2 = u + dt*(-u*np.real(np.fft.ifft(1j*xi*uhat)) + epsilon*np.real(np.fft.ifft(-xi**2*uhat)))\n",
      "    uhat = np.fft.fft(y2)\n",
      "    y3 = 0.75*u + 0.25*(y2 + dt*(-y2*np.real(np.fft.ifft(1j*xi*uhat)) + epsilon*np.real(np.fft.ifft(-xi**2*uhat))))\n",
      "    uhat = np.fft.fft(y3)\n",
      "    u_new = 1./3 * u + 2./3 * (y3 + dt*(-y3*np.real(np.fft.ifft(1j*xi*uhat)) + epsilon*np.real(np.fft.ifft(-xi**2*uhat))))\n",
      "\n",
      "    u = u_new.copy()\n",
      "    t = n*dt\n",
      "    # Plotting\n",
      "    if np.mod(n,nplt) == 0:\n",
      "        frames.append(u.copy())\n",
      "        tt.append(t)\n",
      "        \n",
      "def plot_frame(i):\n",
      "    line.set_data(x,frames[i])\n",
      "    axes.set_title('t= %.2f' % tt[i])\n",
      "    axes.set_xlim((-np.pi,np.pi))\n",
      "    axes.set_ylim((-0.1,1.))\n",
      "    \n",
      "matplotlib.animation.FuncAnimation(fig, plot_frame, frames=len(frames), interval=20)"
     ],
     "language": "python",
     "metadata": {},
     "outputs": []
    },
    {
     "cell_type": "markdown",
     "metadata": {},
     "source": [
      "With the integrating factor method, we obtained the semi-discretization:\n",
      "\n",
      "$$\n",
      "\\hat{U}'(t) = - \\frac{i\\xi}{2} \\exp \\left( \\xi^2 \\epsilon t \\right)\n",
      "    \\mathcal F \\left\\{\n",
      "        \\left[\n",
      "            \\mathcal F^{-1} \\left(\n",
      "                \\exp \\left( -\\xi^2 \\epsilon t \\right)\\hat{U}\n",
      "            \\right)\n",
      "        \\right]^2\n",
      "    \\right\\}.\n",
      "$$\n",
      "\n",
      "It should be obvious that the eigenvalues of the Jacobian of this RHS will be better behaved -- in particular, they will scale like $m$ rather than $m^2$.  That explains why we could take $\\Delta t \\propto 1/m$ with the integrating factor method."
     ]
    },
    {
     "cell_type": "heading",
     "level": 1,
     "metadata": {},
     "source": [
      "Splitting methods"
     ]
    },
    {
     "cell_type": "markdown",
     "metadata": {},
     "source": [
      "In a way, our Burgers' discretization above is the worst of two worlds: we have to use time discretization because of the nonlinear term, and we have stiffness because of the linear term.  Wouldn't it be great if we could use time discretization for the nonlinear term only, while integrating the linear (stiff) term exactly?  Then we would be able to take time steps proportional to $1/m$ rather than $1/m^2$.  This approached is referred to as *operator splitting*."
     ]
    },
    {
     "cell_type": "markdown",
     "metadata": {},
     "source": [
      "To implement operator splitting, we alternate between solving\n",
      "\n",
      "$$u_t = -u u_x$$\n",
      "and\n",
      "$$u_t = \\epsilon u_{xx}.$$\n",
      "\n",
      "For the first part, we can apply an ODE solver to the semi-discretization\n",
      "$$U'(t) = - U \\Finv \\left(D\\left[i\\xi\\right] \\F(U)\\right).$$\n",
      "\n",
      "For the second part, we integrate exactly."
     ]
    },
    {
     "cell_type": "code",
     "collapsed": false,
     "input": [
      "# Homework: implement the splitting approach here"
     ],
     "language": "python",
     "metadata": {},
     "outputs": []
    }
   ],
   "metadata": {}
  }
 ]
}